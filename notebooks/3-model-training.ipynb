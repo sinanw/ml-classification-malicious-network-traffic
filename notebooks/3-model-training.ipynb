{
 "cells": [
  {
   "cell_type": "markdown",
   "metadata": {},
   "source": [
    "# Supervised Machine Learning - Data Classification Demo\n",
    "## Part 3 - MODEL TRAINING"
   ]
  },
  {
   "cell_type": "markdown",
   "metadata": {},
   "source": [
    "In this notebook, we load the processed dataset file and use it to train several classification models.\n",
    "\n",
    "> **INPUT:** the ready dataset csv file as cleaned and processed in the previous phases.<br>\n",
    "> **OUTPUT:** a comparison of the prediction accuracy and performance of multiple machine learning classification algorithms.  "
   ]
  },
  {
   "cell_type": "markdown",
   "metadata": {},
   "source": [
    "***"
   ]
  },
  {
   "cell_type": "markdown",
   "metadata": {},
   "source": [
    "### 1. INITIALIZATION"
   ]
  },
  {
   "cell_type": "code",
   "execution_count": 70,
   "metadata": {},
   "outputs": [],
   "source": [
    "#importing required libraries and modules\n",
    "import pandas as pd\n",
    "import seaborn as sns\n",
    "from sklearn.model_selection import train_test_split\n",
    "from sklearn.naive_bayes import GaussianNB\n",
    "from sklearn.metrics import classification_report, confusion_matrix\n"
   ]
  },
  {
   "cell_type": "markdown",
   "metadata": {},
   "source": [
    "### 2. LOADING PROCESSED DATASET"
   ]
  },
  {
   "cell_type": "markdown",
   "metadata": {},
   "source": [
    "#### Reading dataset file into pandas DataFrame"
   ]
  },
  {
   "cell_type": "code",
   "execution_count": 2,
   "metadata": {},
   "outputs": [],
   "source": [
    "#initialize required variables to read the cleaned data file\n",
    "data_file_location = \"..\\\\data\\\\processed\\\\\"\n",
    "data_file_name = \"conn.log.labeled_processed\"\n",
    "data_file_ext = \".csv\"\n",
    "\n",
    "\n",
    "#read the dataset\n",
    "data_df = pd.read_csv(data_file_location + data_file_name + data_file_ext, index_col=0)"
   ]
  },
  {
   "cell_type": "markdown",
   "metadata": {},
   "source": [
    "#### Exploring dataset summary and statistics"
   ]
  },
  {
   "cell_type": "code",
   "execution_count": 3,
   "metadata": {},
   "outputs": [
    {
     "data": {
      "text/plain": [
       "(23145, 33)"
      ]
     },
     "execution_count": 3,
     "metadata": {},
     "output_type": "execute_result"
    }
   ],
   "source": [
    "#check dataset shape\n",
    "data_df.shape"
   ]
  },
  {
   "cell_type": "code",
   "execution_count": 4,
   "metadata": {},
   "outputs": [
    {
     "data": {
      "text/html": [
       "<div>\n",
       "<style scoped>\n",
       "    .dataframe tbody tr th:only-of-type {\n",
       "        vertical-align: middle;\n",
       "    }\n",
       "\n",
       "    .dataframe tbody tr th {\n",
       "        vertical-align: top;\n",
       "    }\n",
       "\n",
       "    .dataframe thead th {\n",
       "        text-align: right;\n",
       "    }\n",
       "</style>\n",
       "<table border=\"1\" class=\"dataframe\">\n",
       "  <thead>\n",
       "    <tr style=\"text-align: right;\">\n",
       "      <th></th>\n",
       "      <th>id.orig_h</th>\n",
       "      <th>id.orig_p</th>\n",
       "      <th>id.resp_h</th>\n",
       "      <th>id.resp_p</th>\n",
       "      <th>duration</th>\n",
       "      <th>orig_bytes</th>\n",
       "      <th>resp_bytes</th>\n",
       "      <th>missed_bytes</th>\n",
       "      <th>orig_pkts</th>\n",
       "      <th>orig_ip_bytes</th>\n",
       "      <th>...</th>\n",
       "      <th>conn_state_S3</th>\n",
       "      <th>conn_state_SF</th>\n",
       "      <th>history_C</th>\n",
       "      <th>history_D</th>\n",
       "      <th>history_Dd</th>\n",
       "      <th>history_Other</th>\n",
       "      <th>history_S</th>\n",
       "      <th>history_ShAdDaf</th>\n",
       "      <th>history_ShAdDaft</th>\n",
       "      <th>history_ShAdfDr</th>\n",
       "    </tr>\n",
       "  </thead>\n",
       "  <tbody>\n",
       "    <tr>\n",
       "      <th>0</th>\n",
       "      <td>3.232236e+09</td>\n",
       "      <td>41040.0</td>\n",
       "      <td>3.119782e+09</td>\n",
       "      <td>80.0</td>\n",
       "      <td>3.139211</td>\n",
       "      <td>0.0</td>\n",
       "      <td>0.0</td>\n",
       "      <td>0.0</td>\n",
       "      <td>3.0</td>\n",
       "      <td>180.0</td>\n",
       "      <td>...</td>\n",
       "      <td>0.0</td>\n",
       "      <td>0.0</td>\n",
       "      <td>0.0</td>\n",
       "      <td>0.0</td>\n",
       "      <td>0.0</td>\n",
       "      <td>0.0</td>\n",
       "      <td>1.0</td>\n",
       "      <td>0.0</td>\n",
       "      <td>0.0</td>\n",
       "      <td>0.0</td>\n",
       "    </tr>\n",
       "    <tr>\n",
       "      <th>1</th>\n",
       "      <td>3.232236e+09</td>\n",
       "      <td>41040.0</td>\n",
       "      <td>3.119782e+09</td>\n",
       "      <td>80.0</td>\n",
       "      <td>3.152487</td>\n",
       "      <td>0.0</td>\n",
       "      <td>0.0</td>\n",
       "      <td>0.0</td>\n",
       "      <td>1.0</td>\n",
       "      <td>60.0</td>\n",
       "      <td>...</td>\n",
       "      <td>0.0</td>\n",
       "      <td>0.0</td>\n",
       "      <td>0.0</td>\n",
       "      <td>0.0</td>\n",
       "      <td>0.0</td>\n",
       "      <td>0.0</td>\n",
       "      <td>1.0</td>\n",
       "      <td>0.0</td>\n",
       "      <td>0.0</td>\n",
       "      <td>0.0</td>\n",
       "    </tr>\n",
       "    <tr>\n",
       "      <th>2</th>\n",
       "      <td>3.232236e+09</td>\n",
       "      <td>41040.0</td>\n",
       "      <td>3.119782e+09</td>\n",
       "      <td>80.0</td>\n",
       "      <td>3.152487</td>\n",
       "      <td>0.0</td>\n",
       "      <td>0.0</td>\n",
       "      <td>0.0</td>\n",
       "      <td>1.0</td>\n",
       "      <td>60.0</td>\n",
       "      <td>...</td>\n",
       "      <td>0.0</td>\n",
       "      <td>0.0</td>\n",
       "      <td>0.0</td>\n",
       "      <td>0.0</td>\n",
       "      <td>0.0</td>\n",
       "      <td>0.0</td>\n",
       "      <td>1.0</td>\n",
       "      <td>0.0</td>\n",
       "      <td>0.0</td>\n",
       "      <td>0.0</td>\n",
       "    </tr>\n",
       "    <tr>\n",
       "      <th>3</th>\n",
       "      <td>3.232236e+09</td>\n",
       "      <td>41040.0</td>\n",
       "      <td>3.119782e+09</td>\n",
       "      <td>80.0</td>\n",
       "      <td>1.477656</td>\n",
       "      <td>149.0</td>\n",
       "      <td>128252.0</td>\n",
       "      <td>2896.0</td>\n",
       "      <td>94.0</td>\n",
       "      <td>5525.0</td>\n",
       "      <td>...</td>\n",
       "      <td>0.0</td>\n",
       "      <td>1.0</td>\n",
       "      <td>0.0</td>\n",
       "      <td>0.0</td>\n",
       "      <td>0.0</td>\n",
       "      <td>1.0</td>\n",
       "      <td>0.0</td>\n",
       "      <td>0.0</td>\n",
       "      <td>0.0</td>\n",
       "      <td>0.0</td>\n",
       "    </tr>\n",
       "    <tr>\n",
       "      <th>4</th>\n",
       "      <td>3.232236e+09</td>\n",
       "      <td>41042.0</td>\n",
       "      <td>3.119782e+09</td>\n",
       "      <td>80.0</td>\n",
       "      <td>3.147116</td>\n",
       "      <td>0.0</td>\n",
       "      <td>0.0</td>\n",
       "      <td>0.0</td>\n",
       "      <td>3.0</td>\n",
       "      <td>180.0</td>\n",
       "      <td>...</td>\n",
       "      <td>0.0</td>\n",
       "      <td>0.0</td>\n",
       "      <td>0.0</td>\n",
       "      <td>0.0</td>\n",
       "      <td>0.0</td>\n",
       "      <td>0.0</td>\n",
       "      <td>1.0</td>\n",
       "      <td>0.0</td>\n",
       "      <td>0.0</td>\n",
       "      <td>0.0</td>\n",
       "    </tr>\n",
       "  </tbody>\n",
       "</table>\n",
       "<p>5 rows × 33 columns</p>\n",
       "</div>"
      ],
      "text/plain": [
       "      id.orig_h  id.orig_p     id.resp_h  id.resp_p  duration  orig_bytes  \\\n",
       "0  3.232236e+09    41040.0  3.119782e+09       80.0  3.139211         0.0   \n",
       "1  3.232236e+09    41040.0  3.119782e+09       80.0  3.152487         0.0   \n",
       "2  3.232236e+09    41040.0  3.119782e+09       80.0  3.152487         0.0   \n",
       "3  3.232236e+09    41040.0  3.119782e+09       80.0  1.477656       149.0   \n",
       "4  3.232236e+09    41042.0  3.119782e+09       80.0  3.147116         0.0   \n",
       "\n",
       "   resp_bytes  missed_bytes  orig_pkts  orig_ip_bytes  ...  conn_state_S3  \\\n",
       "0         0.0           0.0        3.0          180.0  ...            0.0   \n",
       "1         0.0           0.0        1.0           60.0  ...            0.0   \n",
       "2         0.0           0.0        1.0           60.0  ...            0.0   \n",
       "3    128252.0        2896.0       94.0         5525.0  ...            0.0   \n",
       "4         0.0           0.0        3.0          180.0  ...            0.0   \n",
       "\n",
       "   conn_state_SF  history_C  history_D  history_Dd  history_Other  history_S  \\\n",
       "0            0.0        0.0        0.0         0.0            0.0        1.0   \n",
       "1            0.0        0.0        0.0         0.0            0.0        1.0   \n",
       "2            0.0        0.0        0.0         0.0            0.0        1.0   \n",
       "3            1.0        0.0        0.0         0.0            1.0        0.0   \n",
       "4            0.0        0.0        0.0         0.0            0.0        1.0   \n",
       "\n",
       "   history_ShAdDaf  history_ShAdDaft  history_ShAdfDr  \n",
       "0              0.0               0.0              0.0  \n",
       "1              0.0               0.0              0.0  \n",
       "2              0.0               0.0              0.0  \n",
       "3              0.0               0.0              0.0  \n",
       "4              0.0               0.0              0.0  \n",
       "\n",
       "[5 rows x 33 columns]"
      ]
     },
     "execution_count": 4,
     "metadata": {},
     "output_type": "execute_result"
    }
   ],
   "source": [
    "#check dataset head\n",
    "data_df.head()"
   ]
  },
  {
   "cell_type": "markdown",
   "metadata": {},
   "source": [
    "### 3. MODEL TRAINING"
   ]
  },
  {
   "cell_type": "code",
   "execution_count": 5,
   "metadata": {},
   "outputs": [],
   "source": [
    "#split data into dependent and independent variables\n",
    "data_X = data_df.drop(\"label\", axis=1)\n",
    "data_y = data_df[\"label\"]"
   ]
  },
  {
   "cell_type": "code",
   "execution_count": 6,
   "metadata": {},
   "outputs": [],
   "source": [
    "#split data into train and test sets\n",
    "X_train, X_test, y_train, y_test = train_test_split(data_X, data_y, test_size=.2, random_state=101)"
   ]
  },
  {
   "cell_type": "code",
   "execution_count": 63,
   "metadata": {},
   "outputs": [
    {
     "name": "stdout",
     "output_type": "stream",
     "text": [
      "data X: (23145, 32)\n",
      "data_y: (23145,)\n",
      "X_train: (18516, 32)\n",
      "X_test: (4629, 32)\n",
      "y_train: (18516,)\n",
      "y_test: (4629,)\n"
     ]
    }
   ],
   "source": [
    "#an overview of the data sets\n",
    "print(f\"data X: {data_X.shape}\")\n",
    "print(f\"data_y: {data_y.shape}\")\n",
    "print(f\"X_train: {X_train.shape}\")\n",
    "print(f\"X_test: {X_test.shape}\")\n",
    "print(f\"y_train: {y_train.shape}\")\n",
    "print(f\"y_test: {y_test.shape}\")"
   ]
  },
  {
   "cell_type": "code",
   "execution_count": 71,
   "metadata": {},
   "outputs": [
    {
     "name": "stdout",
     "output_type": "stream",
     "text": [
      "[[ 335   66]\n",
      " [  22 4206]]\n"
     ]
    }
   ],
   "source": [
    "classifiers = [\n",
    "    (\"Naive Bayes\", GaussianNB()),\n",
    "    # (\"Decision Tree\", ),\n",
    "    # (\"Support Vector Machines\", ),\n",
    "    # (\"Random Forest\", ),\n",
    "    # (\"K-Nearest Neighbors\", ),\n",
    "    # (\"Logistic Regression\", ),\n",
    "    # (\"XGBoost\", ),\n",
    "]\n",
    "\n",
    "for est_name, est_obj in classifiers:\n",
    "    y_pred = est_obj.fit(X_train, y_train).predict(X_test)\n",
    "    print(confusion_matrix(y_test, y_pred))\n",
    "\n",
    "\n",
    "\n",
    "\n"
   ]
  },
  {
   "cell_type": "code",
   "execution_count": null,
   "metadata": {},
   "outputs": [],
   "source": []
  }
 ],
 "metadata": {
  "kernelspec": {
   "display_name": "base",
   "language": "python",
   "name": "python3"
  },
  "language_info": {
   "codemirror_mode": {
    "name": "ipython",
    "version": 3
   },
   "file_extension": ".py",
   "mimetype": "text/x-python",
   "name": "python",
   "nbconvert_exporter": "python",
   "pygments_lexer": "ipython3",
   "version": "3.11.4"
  },
  "orig_nbformat": 4
 },
 "nbformat": 4,
 "nbformat_minor": 2
}
