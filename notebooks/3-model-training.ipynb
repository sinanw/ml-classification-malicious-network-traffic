{
 "cells": [
  {
   "cell_type": "markdown",
   "metadata": {},
   "source": [
    "# Supervised Machine Learning - Data Classification Demo\n",
    "## Part 3 - MODEL TRAINING"
   ]
  },
  {
   "cell_type": "markdown",
   "metadata": {},
   "source": [
    "In this notebook, we load the processed dataset file and use it to train several classification models.\n",
    "\n",
    "> **INPUT:** the ready dataset csv file as cleaned and processed in the previous phases.<br>\n",
    "> **OUTPUT:** a comparison of the prediction accuracy and performance of multiple machine learning classification algorithms.  "
   ]
  },
  {
   "cell_type": "markdown",
   "metadata": {},
   "source": [
    "***"
   ]
  },
  {
   "cell_type": "markdown",
   "metadata": {},
   "source": [
    "### 1. INITIALIZATION"
   ]
  },
  {
   "cell_type": "code",
   "execution_count": 1,
   "metadata": {},
   "outputs": [],
   "source": [
    "# Import necessary libraries and modules\n",
    "import pandas as pd\n",
    "import seaborn as sns\n",
    "import matplotlib.pyplot as plt\n",
    "from sklearn.model_selection import StratifiedKFold\n",
    "from sklearn.naive_bayes import ComplementNB\n",
    "from sklearn.metrics import precision_score, confusion_matrix, recall_score, accuracy_score, f1_score\n",
    "from statistics import mean\n",
    "from sklearn.tree import DecisionTreeClassifier, plot_tree\n",
    "from sklearn.svm import SVC\n",
    "from sklearn.ensemble import RandomForestClassifier, AdaBoostClassifier\n",
    "from sklearn.neighbors import KNeighborsClassifier\n",
    "from sklearn.linear_model import LogisticRegression\n"
   ]
  },
  {
   "cell_type": "code",
   "execution_count": 2,
   "metadata": {},
   "outputs": [],
   "source": [
    "# Set display options\n",
    "pd.set_option('display.max_columns', None)"
   ]
  },
  {
   "cell_type": "markdown",
   "metadata": {},
   "source": [
    "### 2. LOADING PROCESSED DATASET"
   ]
  },
  {
   "cell_type": "markdown",
   "metadata": {},
   "source": [
    "#### Reading dataset file into pandas DataFrame"
   ]
  },
  {
   "cell_type": "code",
   "execution_count": 3,
   "metadata": {},
   "outputs": [],
   "source": [
    "# Initialize required variables to read the cleaned data file\n",
    "data_file_location = \"..\\\\data\\\\processed\\\\\"\n",
    "data_file_name = \"conn.log.labeled_processed\"\n",
    "data_file_ext = \".csv\"\n",
    "\n",
    "\n",
    "# Read the dataset\n",
    "data_df = pd.read_csv(data_file_location + data_file_name + data_file_ext, index_col=0)"
   ]
  },
  {
   "cell_type": "markdown",
   "metadata": {},
   "source": [
    "#### Exploring dataset summary and statistics"
   ]
  },
  {
   "cell_type": "code",
   "execution_count": 4,
   "metadata": {},
   "outputs": [
    {
     "data": {
      "text/plain": [
       "(23145, 33)"
      ]
     },
     "execution_count": 4,
     "metadata": {},
     "output_type": "execute_result"
    }
   ],
   "source": [
    "# Check dataset shape\n",
    "data_df.shape"
   ]
  },
  {
   "cell_type": "code",
   "execution_count": 5,
   "metadata": {},
   "outputs": [
    {
     "data": {
      "text/html": [
       "<div>\n",
       "<style scoped>\n",
       "    .dataframe tbody tr th:only-of-type {\n",
       "        vertical-align: middle;\n",
       "    }\n",
       "\n",
       "    .dataframe tbody tr th {\n",
       "        vertical-align: top;\n",
       "    }\n",
       "\n",
       "    .dataframe thead th {\n",
       "        text-align: right;\n",
       "    }\n",
       "</style>\n",
       "<table border=\"1\" class=\"dataframe\">\n",
       "  <thead>\n",
       "    <tr style=\"text-align: right;\">\n",
       "      <th></th>\n",
       "      <th>id.orig_h</th>\n",
       "      <th>id.orig_p</th>\n",
       "      <th>id.resp_h</th>\n",
       "      <th>id.resp_p</th>\n",
       "      <th>duration</th>\n",
       "      <th>orig_bytes</th>\n",
       "      <th>resp_bytes</th>\n",
       "      <th>missed_bytes</th>\n",
       "      <th>orig_pkts</th>\n",
       "      <th>orig_ip_bytes</th>\n",
       "      <th>resp_pkts</th>\n",
       "      <th>resp_ip_bytes</th>\n",
       "      <th>label</th>\n",
       "      <th>proto_tcp</th>\n",
       "      <th>proto_udp</th>\n",
       "      <th>service_dhcp</th>\n",
       "      <th>service_dns</th>\n",
       "      <th>service_http</th>\n",
       "      <th>service_irc</th>\n",
       "      <th>conn_state_OTH</th>\n",
       "      <th>conn_state_RSTR</th>\n",
       "      <th>conn_state_S0</th>\n",
       "      <th>conn_state_S1</th>\n",
       "      <th>conn_state_S3</th>\n",
       "      <th>conn_state_SF</th>\n",
       "      <th>history_C</th>\n",
       "      <th>history_D</th>\n",
       "      <th>history_Dd</th>\n",
       "      <th>history_Other</th>\n",
       "      <th>history_S</th>\n",
       "      <th>history_ShAdDaf</th>\n",
       "      <th>history_ShAdDaft</th>\n",
       "      <th>history_ShAdfDr</th>\n",
       "    </tr>\n",
       "  </thead>\n",
       "  <tbody>\n",
       "    <tr>\n",
       "      <th>0</th>\n",
       "      <td>1.0</td>\n",
       "      <td>0.628686</td>\n",
       "      <td>0.855795</td>\n",
       "      <td>0.001238</td>\n",
       "      <td>0.620050</td>\n",
       "      <td>0.000000</td>\n",
       "      <td>0.000000</td>\n",
       "      <td>0.0</td>\n",
       "      <td>0.000163</td>\n",
       "      <td>2.366458e-06</td>\n",
       "      <td>0.00000</td>\n",
       "      <td>0.000000</td>\n",
       "      <td>0</td>\n",
       "      <td>1.0</td>\n",
       "      <td>0.0</td>\n",
       "      <td>0.0</td>\n",
       "      <td>0.0</td>\n",
       "      <td>0.0</td>\n",
       "      <td>1.0</td>\n",
       "      <td>0.0</td>\n",
       "      <td>0.0</td>\n",
       "      <td>1.0</td>\n",
       "      <td>0.0</td>\n",
       "      <td>0.0</td>\n",
       "      <td>0.0</td>\n",
       "      <td>0.0</td>\n",
       "      <td>0.0</td>\n",
       "      <td>0.0</td>\n",
       "      <td>0.0</td>\n",
       "      <td>1.0</td>\n",
       "      <td>0.0</td>\n",
       "      <td>0.0</td>\n",
       "      <td>0.0</td>\n",
       "    </tr>\n",
       "    <tr>\n",
       "      <th>1</th>\n",
       "      <td>1.0</td>\n",
       "      <td>0.628686</td>\n",
       "      <td>0.855795</td>\n",
       "      <td>0.001238</td>\n",
       "      <td>0.623234</td>\n",
       "      <td>0.000000</td>\n",
       "      <td>0.000000</td>\n",
       "      <td>0.0</td>\n",
       "      <td>0.000054</td>\n",
       "      <td>7.888192e-07</td>\n",
       "      <td>0.00000</td>\n",
       "      <td>0.000000</td>\n",
       "      <td>0</td>\n",
       "      <td>1.0</td>\n",
       "      <td>0.0</td>\n",
       "      <td>0.0</td>\n",
       "      <td>0.0</td>\n",
       "      <td>0.0</td>\n",
       "      <td>1.0</td>\n",
       "      <td>0.0</td>\n",
       "      <td>0.0</td>\n",
       "      <td>1.0</td>\n",
       "      <td>0.0</td>\n",
       "      <td>0.0</td>\n",
       "      <td>0.0</td>\n",
       "      <td>0.0</td>\n",
       "      <td>0.0</td>\n",
       "      <td>0.0</td>\n",
       "      <td>0.0</td>\n",
       "      <td>1.0</td>\n",
       "      <td>0.0</td>\n",
       "      <td>0.0</td>\n",
       "      <td>0.0</td>\n",
       "    </tr>\n",
       "    <tr>\n",
       "      <th>2</th>\n",
       "      <td>1.0</td>\n",
       "      <td>0.628686</td>\n",
       "      <td>0.855795</td>\n",
       "      <td>0.001238</td>\n",
       "      <td>0.623234</td>\n",
       "      <td>0.000000</td>\n",
       "      <td>0.000000</td>\n",
       "      <td>0.0</td>\n",
       "      <td>0.000054</td>\n",
       "      <td>7.888192e-07</td>\n",
       "      <td>0.00000</td>\n",
       "      <td>0.000000</td>\n",
       "      <td>0</td>\n",
       "      <td>1.0</td>\n",
       "      <td>0.0</td>\n",
       "      <td>0.0</td>\n",
       "      <td>0.0</td>\n",
       "      <td>0.0</td>\n",
       "      <td>1.0</td>\n",
       "      <td>0.0</td>\n",
       "      <td>0.0</td>\n",
       "      <td>1.0</td>\n",
       "      <td>0.0</td>\n",
       "      <td>0.0</td>\n",
       "      <td>0.0</td>\n",
       "      <td>0.0</td>\n",
       "      <td>0.0</td>\n",
       "      <td>0.0</td>\n",
       "      <td>0.0</td>\n",
       "      <td>1.0</td>\n",
       "      <td>0.0</td>\n",
       "      <td>0.0</td>\n",
       "      <td>0.0</td>\n",
       "    </tr>\n",
       "    <tr>\n",
       "      <th>3</th>\n",
       "      <td>1.0</td>\n",
       "      <td>0.628686</td>\n",
       "      <td>0.855795</td>\n",
       "      <td>0.001238</td>\n",
       "      <td>0.221583</td>\n",
       "      <td>0.000002</td>\n",
       "      <td>0.780758</td>\n",
       "      <td>0.5</td>\n",
       "      <td>0.005097</td>\n",
       "      <td>7.263710e-05</td>\n",
       "      <td>0.08972</td>\n",
       "      <td>0.823184</td>\n",
       "      <td>0</td>\n",
       "      <td>1.0</td>\n",
       "      <td>0.0</td>\n",
       "      <td>0.0</td>\n",
       "      <td>0.0</td>\n",
       "      <td>1.0</td>\n",
       "      <td>0.0</td>\n",
       "      <td>0.0</td>\n",
       "      <td>0.0</td>\n",
       "      <td>0.0</td>\n",
       "      <td>0.0</td>\n",
       "      <td>0.0</td>\n",
       "      <td>1.0</td>\n",
       "      <td>0.0</td>\n",
       "      <td>0.0</td>\n",
       "      <td>0.0</td>\n",
       "      <td>1.0</td>\n",
       "      <td>0.0</td>\n",
       "      <td>0.0</td>\n",
       "      <td>0.0</td>\n",
       "      <td>0.0</td>\n",
       "    </tr>\n",
       "    <tr>\n",
       "      <th>4</th>\n",
       "      <td>1.0</td>\n",
       "      <td>0.628717</td>\n",
       "      <td>0.855795</td>\n",
       "      <td>0.001238</td>\n",
       "      <td>0.621946</td>\n",
       "      <td>0.000000</td>\n",
       "      <td>0.000000</td>\n",
       "      <td>0.0</td>\n",
       "      <td>0.000163</td>\n",
       "      <td>2.366458e-06</td>\n",
       "      <td>0.00000</td>\n",
       "      <td>0.000000</td>\n",
       "      <td>0</td>\n",
       "      <td>1.0</td>\n",
       "      <td>0.0</td>\n",
       "      <td>0.0</td>\n",
       "      <td>0.0</td>\n",
       "      <td>0.0</td>\n",
       "      <td>1.0</td>\n",
       "      <td>0.0</td>\n",
       "      <td>0.0</td>\n",
       "      <td>1.0</td>\n",
       "      <td>0.0</td>\n",
       "      <td>0.0</td>\n",
       "      <td>0.0</td>\n",
       "      <td>0.0</td>\n",
       "      <td>0.0</td>\n",
       "      <td>0.0</td>\n",
       "      <td>0.0</td>\n",
       "      <td>1.0</td>\n",
       "      <td>0.0</td>\n",
       "      <td>0.0</td>\n",
       "      <td>0.0</td>\n",
       "    </tr>\n",
       "  </tbody>\n",
       "</table>\n",
       "</div>"
      ],
      "text/plain": [
       "   id.orig_h  id.orig_p  id.resp_h  id.resp_p  duration  orig_bytes  \\\n",
       "0        1.0   0.628686   0.855795   0.001238  0.620050    0.000000   \n",
       "1        1.0   0.628686   0.855795   0.001238  0.623234    0.000000   \n",
       "2        1.0   0.628686   0.855795   0.001238  0.623234    0.000000   \n",
       "3        1.0   0.628686   0.855795   0.001238  0.221583    0.000002   \n",
       "4        1.0   0.628717   0.855795   0.001238  0.621946    0.000000   \n",
       "\n",
       "   resp_bytes  missed_bytes  orig_pkts  orig_ip_bytes  resp_pkts  \\\n",
       "0    0.000000           0.0   0.000163   2.366458e-06    0.00000   \n",
       "1    0.000000           0.0   0.000054   7.888192e-07    0.00000   \n",
       "2    0.000000           0.0   0.000054   7.888192e-07    0.00000   \n",
       "3    0.780758           0.5   0.005097   7.263710e-05    0.08972   \n",
       "4    0.000000           0.0   0.000163   2.366458e-06    0.00000   \n",
       "\n",
       "   resp_ip_bytes  label  proto_tcp  proto_udp  service_dhcp  service_dns  \\\n",
       "0       0.000000      0        1.0        0.0           0.0          0.0   \n",
       "1       0.000000      0        1.0        0.0           0.0          0.0   \n",
       "2       0.000000      0        1.0        0.0           0.0          0.0   \n",
       "3       0.823184      0        1.0        0.0           0.0          0.0   \n",
       "4       0.000000      0        1.0        0.0           0.0          0.0   \n",
       "\n",
       "   service_http  service_irc  conn_state_OTH  conn_state_RSTR  conn_state_S0  \\\n",
       "0           0.0          1.0             0.0              0.0            1.0   \n",
       "1           0.0          1.0             0.0              0.0            1.0   \n",
       "2           0.0          1.0             0.0              0.0            1.0   \n",
       "3           1.0          0.0             0.0              0.0            0.0   \n",
       "4           0.0          1.0             0.0              0.0            1.0   \n",
       "\n",
       "   conn_state_S1  conn_state_S3  conn_state_SF  history_C  history_D  \\\n",
       "0            0.0            0.0            0.0        0.0        0.0   \n",
       "1            0.0            0.0            0.0        0.0        0.0   \n",
       "2            0.0            0.0            0.0        0.0        0.0   \n",
       "3            0.0            0.0            1.0        0.0        0.0   \n",
       "4            0.0            0.0            0.0        0.0        0.0   \n",
       "\n",
       "   history_Dd  history_Other  history_S  history_ShAdDaf  history_ShAdDaft  \\\n",
       "0         0.0            0.0        1.0              0.0               0.0   \n",
       "1         0.0            0.0        1.0              0.0               0.0   \n",
       "2         0.0            0.0        1.0              0.0               0.0   \n",
       "3         0.0            1.0        0.0              0.0               0.0   \n",
       "4         0.0            0.0        1.0              0.0               0.0   \n",
       "\n",
       "   history_ShAdfDr  \n",
       "0              0.0  \n",
       "1              0.0  \n",
       "2              0.0  \n",
       "3              0.0  \n",
       "4              0.0  "
      ]
     },
     "execution_count": 5,
     "metadata": {},
     "output_type": "execute_result"
    }
   ],
   "source": [
    "# Check dataset head\n",
    "data_df.head()"
   ]
  },
  {
   "cell_type": "markdown",
   "metadata": {},
   "source": [
    "### 3. MODEL TRAINING"
   ]
  },
  {
   "cell_type": "code",
   "execution_count": 6,
   "metadata": {},
   "outputs": [],
   "source": [
    "# Split data into independent and dependent variables\n",
    "data_X = data_df.drop(\"label\", axis=1)\n",
    "data_y = data_df[\"label\"]"
   ]
  },
  {
   "cell_type": "markdown",
   "metadata": {},
   "source": [
    "#### Initializing classification models"
   ]
  },
  {
   "cell_type": "markdown",
   "metadata": {},
   "source": [
    "To compare the performance of several models, we choose a set of the most popular machine learning models for classification tasks."
   ]
  },
  {
   "cell_type": "code",
   "execution_count": 19,
   "metadata": {},
   "outputs": [],
   "source": [
    "# Initialize classification models\n",
    "classifiers = [\n",
    "    # Since we have unbalanced labels, we use the Complement version of Naive Bayes which is particularly suited for imbalanced data sets.\n",
    "    (\"Naive Bayes\", ComplementNB()),\n",
    "    \n",
    "    # We use the Decision Tree with its default parameters, including the \"Gini Impurity\" to measure the quality of splits and ccp_alpha=0 (no pruning is performed). \n",
    "    (\"Decision Tree\", DecisionTreeClassifier()),\n",
    "    \n",
    "    # Logistic Regression model to help discovering linearity separation in the data set\n",
    "    (\"Logistic Regression\", LogisticRegression()),\n",
    "    \n",
    "    # (\"Support Vector Machines\", SVC()),\n",
    "    # (\"Random Forest\", RandomForestClassifier()),\n",
    "    # (\"K-Nearest Neighbors\", KNeighborsClassifier()),\n",
    "    # (\"AdaBoost\", AdaBoostClassifier()),\n",
    "    # (\"XGBoost\", ),\n",
    "]"
   ]
  },
  {
   "cell_type": "markdown",
   "metadata": {},
   "source": [
    "#### Initializing the cross-validation technique"
   ]
  },
  {
   "cell_type": "markdown",
   "metadata": {},
   "source": [
    "- In order to obtain better representative results of the performance of each model, we use cross validation instead of the regular train/test split.\n",
    "- Since we are dealing with imbalanced class distribution, we prefer Stratified K-Folds cross-validator over KFold to ensure enough samples of the labels are represented in each fold. "
   ]
  },
  {
   "cell_type": "code",
   "execution_count": 20,
   "metadata": {},
   "outputs": [],
   "source": [
    "# Initialize the cross-validator with sample shuffling activated\n",
    "skf_cv = StratifiedKFold(n_splits=5, random_state=0, shuffle=True)"
   ]
  },
  {
   "cell_type": "markdown",
   "metadata": {},
   "source": [
    "#### Training classification models"
   ]
  },
  {
   "cell_type": "code",
   "execution_count": 21,
   "metadata": {},
   "outputs": [
    {
     "name": "stdout",
     "output_type": "stream",
     "text": [
      "Model Training Started!\n",
      "### [Naive Bayes]: Processing ...\n",
      "### [Decision Tree]: Processing ...\n",
      "### [Logistic Regression]: Processing ...\n",
      "Model Training Finished!\n"
     ]
    }
   ],
   "source": [
    "print(\"Model Training Started!\")\n",
    "# Initialize the results summary\n",
    "classification_results = pd.DataFrame(index=[c[0] for c in classifiers], columns=[\"Accuracy\", \"TP\", \"FP\", \"TN\", \"FN\", \"Recall\", \"Precision\", \"F1\"])\n",
    "\n",
    "# Iterate over the estimators\n",
    "for est_name, est_object in classifiers:\n",
    "    \n",
    "    print(f\"### [{est_name}]: Processing ...\")\n",
    "    \n",
    "    # Initialize the results for each classifier\n",
    "    accuracy_scores = []\n",
    "    confusion_matrices = []\n",
    "    recall_scores = []\n",
    "    precision_scores = []\n",
    "    f1_scores = []\n",
    "    \n",
    "    # Iterate over the obtained folds\n",
    "    for train_index, test_index in skf_cv.split(data_X, data_y):\n",
    "\n",
    "        # Get train and test samples from the cross validation model\n",
    "        X_train, X_test = data_X.iloc[train_index], data_X.iloc[test_index]\n",
    "        y_train, y_test = data_y.iloc[train_index], data_y.iloc[test_index]\n",
    "        \n",
    "        # Train the model\n",
    "        est_object.fit(X_train.values, y_train.values)\n",
    "        \n",
    "        # Predict the test samples\n",
    "        y_pred = est_object.predict(X_test.values)\n",
    "        \n",
    "        # Calculate and register accuracy metrics\n",
    "        accuracy_scores.append(accuracy_score(y_test, y_pred))\n",
    "        confusion_matrices.append(confusion_matrix(y_test, y_pred))\n",
    "        recall_scores.append(recall_score(y_test, y_pred))\n",
    "        precision_scores.append(precision_score(y_test, y_pred))\n",
    "        f1_scores.append(f1_score(y_test, y_pred))\n",
    "        \n",
    "        # Maintain the Decision Tree estimator for later analysis\n",
    "        if type(est_object) == type(DecisionTreeClassifier()):\n",
    "            dt_est = est_object\n",
    "    \n",
    "    # Summarize the results for all folds for each classifier\n",
    "    tn, fp, fn, tp = sum(confusion_matrices).ravel()\n",
    "    classification_results.loc[est_name] = [mean(accuracy_scores),tp,fp,tn,fn,mean(recall_scores),mean(precision_scores),mean(f1_scores)]\n",
    "print(\"Model Training Finished!\")   \n",
    "    "
   ]
  },
  {
   "cell_type": "code",
   "execution_count": 22,
   "metadata": {},
   "outputs": [
    {
     "data": {
      "text/html": [
       "<div>\n",
       "<style scoped>\n",
       "    .dataframe tbody tr th:only-of-type {\n",
       "        vertical-align: middle;\n",
       "    }\n",
       "\n",
       "    .dataframe tbody tr th {\n",
       "        vertical-align: top;\n",
       "    }\n",
       "\n",
       "    .dataframe thead th {\n",
       "        text-align: right;\n",
       "    }\n",
       "</style>\n",
       "<table border=\"1\" class=\"dataframe\">\n",
       "  <thead>\n",
       "    <tr style=\"text-align: right;\">\n",
       "      <th></th>\n",
       "      <th>Accuracy</th>\n",
       "      <th>TP</th>\n",
       "      <th>FP</th>\n",
       "      <th>TN</th>\n",
       "      <th>FN</th>\n",
       "      <th>Recall</th>\n",
       "      <th>Precision</th>\n",
       "      <th>F1</th>\n",
       "    </tr>\n",
       "  </thead>\n",
       "  <tbody>\n",
       "    <tr>\n",
       "      <th>Naive Bayes</th>\n",
       "      <td>0.995679</td>\n",
       "      <td>21220</td>\n",
       "      <td>98</td>\n",
       "      <td>1825</td>\n",
       "      <td>2</td>\n",
       "      <td>0.999906</td>\n",
       "      <td>0.995403</td>\n",
       "      <td>0.997649</td>\n",
       "    </tr>\n",
       "    <tr>\n",
       "      <th>Decision Tree</th>\n",
       "      <td>0.999914</td>\n",
       "      <td>21220</td>\n",
       "      <td>0</td>\n",
       "      <td>1923</td>\n",
       "      <td>2</td>\n",
       "      <td>0.999906</td>\n",
       "      <td>1.0</td>\n",
       "      <td>0.999953</td>\n",
       "    </tr>\n",
       "    <tr>\n",
       "      <th>Logistic Regression</th>\n",
       "      <td>0.996111</td>\n",
       "      <td>21217</td>\n",
       "      <td>85</td>\n",
       "      <td>1838</td>\n",
       "      <td>5</td>\n",
       "      <td>0.999764</td>\n",
       "      <td>0.99601</td>\n",
       "      <td>0.997884</td>\n",
       "    </tr>\n",
       "  </tbody>\n",
       "</table>\n",
       "</div>"
      ],
      "text/plain": [
       "                     Accuracy     TP  FP    TN FN    Recall Precision  \\\n",
       "Naive Bayes          0.995679  21220  98  1825  2  0.999906  0.995403   \n",
       "Decision Tree        0.999914  21220   0  1923  2  0.999906       1.0   \n",
       "Logistic Regression  0.996111  21217  85  1838  5  0.999764   0.99601   \n",
       "\n",
       "                           F1  \n",
       "Naive Bayes          0.997649  \n",
       "Decision Tree        0.999953  \n",
       "Logistic Regression  0.997884  "
      ]
     },
     "execution_count": 22,
     "metadata": {},
     "output_type": "execute_result"
    }
   ],
   "source": [
    "# Check the results\n",
    "classification_results"
   ]
  },
  {
   "cell_type": "markdown",
   "metadata": {},
   "source": [
    "### 4. RESULT ANALYSIS"
   ]
  },
  {
   "cell_type": "markdown",
   "metadata": {},
   "source": [
    "- Although our labels are not normally distributed, Naive Bayes achieved good results.\n",
    "- Decision Tree achieved a very good results as it's algorithmically not impacted by imbalanced labels.\n",
    "- Logistic Regression also achieved good results while still yielding higher incorrect predictions, this implies some kind of linearity in the dataset.\n",
    "- Most errors are obtained as False Positive rates, which is commonly the case in most cybersecurity problems."
   ]
  },
  {
   "cell_type": "code",
   "execution_count": 87,
   "metadata": {},
   "outputs": [
    {
     "data": {
      "image/png": "[encoded data removed]",
      "text/plain": [
       "<Figure size 800x700 with 1 Axes>"
      ]
     },
     "metadata": {},
     "output_type": "display_data"
    }
   ],
   "source": [
    "# Visualizing the resulted decision tree (where we notice that only 5 features are the main contributors to classification in this model)\n",
    "plt.figure(figsize=(8,7))\n",
    "plot_tree(dt_est, feature_names=list(data_X.columns), class_names=[\"Benign\", \"Malicious\"], filled=True)\n",
    "plt.show()"
   ]
  },
  {
   "cell_type": "code",
   "execution_count": null,
   "metadata": {},
   "outputs": [],
   "source": []
  }
 ],
 "metadata": {
  "kernelspec": {
   "display_name": "base",
   "language": "python",
   "name": "python3"
  },
  "language_info": {
   "codemirror_mode": {
    "name": "ipython",
    "version": 3
   },
   "file_extension": ".py",
   "mimetype": "text/x-python",
   "name": "python",
   "nbconvert_exporter": "python",
   "pygments_lexer": "ipython3",
   "version": "3.11.4"
  },
  "orig_nbformat": 4
 },
 "nbformat": 4,
 "nbformat_minor": 2
}
