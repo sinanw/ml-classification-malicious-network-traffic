{
 "cells": [
  {
   "cell_type": "markdown",
   "metadata": {},
   "source": [
    "# ML Classification - Network Traffic Analysis\n",
    "## Part 2 - DATA PROCESSING"
   ]
  },
  {
   "cell_type": "markdown",
   "metadata": {},
   "source": [
    "In this notebook, we load the cleaned dataset file and process it into an acceptable format to ML algorithms.\n",
    "\n",
    "> **INPUT:** the cleaned dataset csv file as resulted from the previous cleaning phase.<br>\n",
    "> **OUTPUT:** a processed (final version) of the dataset as a csv file.  "
   ]
  },
  {
   "cell_type": "markdown",
   "metadata": {},
   "source": [
    "***"
   ]
  },
  {
   "cell_type": "markdown",
   "metadata": {},
   "source": [
    "### 1. INITIALIZATION"
   ]
  },
  {
   "cell_type": "code",
   "execution_count": 69,
   "metadata": {},
   "outputs": [],
   "source": [
    "# Import necessary libraries and modules\n",
    "import pandas as pd\n",
    "import numpy as np\n",
    "import seaborn as sns\n",
    "import ipaddress\n",
    "from sklearn.model_selection import train_test_split\n",
    "from sklearn.neighbors import KNeighborsClassifier\n",
    "from sklearn.metrics import accuracy_score, classification_report\n",
    "from sklearn.impute import KNNImputer\n",
    "from sklearn.preprocessing import LabelEncoder, OneHotEncoder\n",
    "from sklearn.preprocessing import MinMaxScaler"
   ]
  },
  {
   "cell_type": "code",
   "execution_count": 70,
   "metadata": {},
   "outputs": [],
   "source": [
    "# Set display options\n",
    "pd.set_option('display.max_columns', None)"
   ]
  },
  {
   "cell_type": "markdown",
   "metadata": {},
   "source": [
    "### 2. LOADING CLEANED DATASET"
   ]
  },
  {
   "cell_type": "markdown",
   "metadata": {},
   "source": [
    "#### Reading dataset file into pandas DataFrame"
   ]
  },
  {
   "cell_type": "code",
   "execution_count": 71,
   "metadata": {},
   "outputs": [],
   "source": [
    "# Initialize required variables to read the cleaned data file\n",
    "data_file_location = \"..\\\\data\\\\interim\\\\\"\n",
    "data_file_name = \"conn.log.labeled_cleaned\"\n",
    "data_file_ext = \".csv\"\n",
    "\n",
    "# Read the dataset\n",
    "data_df = pd.read_csv(data_file_location + data_file_name + data_file_ext, index_col=0)"
   ]
  },
  {
   "cell_type": "markdown",
   "metadata": {},
   "source": [
    "#### Exploring dataset summary and statistics"
   ]
  },
  {
   "cell_type": "code",
   "execution_count": 72,
   "metadata": {},
   "outputs": [
    {
     "data": {
      "text/plain": [
       "(23145, 15)"
      ]
     },
     "execution_count": 72,
     "metadata": {},
     "output_type": "execute_result"
    }
   ],
   "source": [
    "# Check dataset shape\n",
    "data_df.shape"
   ]
  },
  {
   "cell_type": "code",
   "execution_count": 73,
   "metadata": {},
   "outputs": [
    {
     "data": {
      "text/html": [
       "<div>\n",
       "<style scoped>\n",
       "    .dataframe tbody tr th:only-of-type {\n",
       "        vertical-align: middle;\n",
       "    }\n",
       "\n",
       "    .dataframe tbody tr th {\n",
       "        vertical-align: top;\n",
       "    }\n",
       "\n",
       "    .dataframe thead th {\n",
       "        text-align: right;\n",
       "    }\n",
       "</style>\n",
       "<table border=\"1\" class=\"dataframe\">\n",
       "  <thead>\n",
       "    <tr style=\"text-align: right;\">\n",
       "      <th></th>\n",
       "      <th>id.orig_p</th>\n",
       "      <th>id.resp_p</th>\n",
       "      <th>proto</th>\n",
       "      <th>service</th>\n",
       "      <th>duration</th>\n",
       "      <th>orig_bytes</th>\n",
       "      <th>resp_bytes</th>\n",
       "      <th>conn_state</th>\n",
       "      <th>missed_bytes</th>\n",
       "      <th>history</th>\n",
       "      <th>orig_pkts</th>\n",
       "      <th>orig_ip_bytes</th>\n",
       "      <th>resp_pkts</th>\n",
       "      <th>resp_ip_bytes</th>\n",
       "      <th>label</th>\n",
       "    </tr>\n",
       "  </thead>\n",
       "  <tbody>\n",
       "    <tr>\n",
       "      <th>0</th>\n",
       "      <td>41040</td>\n",
       "      <td>80</td>\n",
       "      <td>tcp</td>\n",
       "      <td>NaN</td>\n",
       "      <td>3.139211</td>\n",
       "      <td>0.0</td>\n",
       "      <td>0.0</td>\n",
       "      <td>S0</td>\n",
       "      <td>0</td>\n",
       "      <td>S</td>\n",
       "      <td>3</td>\n",
       "      <td>180</td>\n",
       "      <td>0</td>\n",
       "      <td>0</td>\n",
       "      <td>Benign</td>\n",
       "    </tr>\n",
       "    <tr>\n",
       "      <th>1</th>\n",
       "      <td>41040</td>\n",
       "      <td>80</td>\n",
       "      <td>tcp</td>\n",
       "      <td>NaN</td>\n",
       "      <td>NaN</td>\n",
       "      <td>NaN</td>\n",
       "      <td>NaN</td>\n",
       "      <td>S0</td>\n",
       "      <td>0</td>\n",
       "      <td>S</td>\n",
       "      <td>1</td>\n",
       "      <td>60</td>\n",
       "      <td>0</td>\n",
       "      <td>0</td>\n",
       "      <td>Benign</td>\n",
       "    </tr>\n",
       "    <tr>\n",
       "      <th>2</th>\n",
       "      <td>41040</td>\n",
       "      <td>80</td>\n",
       "      <td>tcp</td>\n",
       "      <td>NaN</td>\n",
       "      <td>NaN</td>\n",
       "      <td>NaN</td>\n",
       "      <td>NaN</td>\n",
       "      <td>S0</td>\n",
       "      <td>0</td>\n",
       "      <td>S</td>\n",
       "      <td>1</td>\n",
       "      <td>60</td>\n",
       "      <td>0</td>\n",
       "      <td>0</td>\n",
       "      <td>Benign</td>\n",
       "    </tr>\n",
       "    <tr>\n",
       "      <th>3</th>\n",
       "      <td>41040</td>\n",
       "      <td>80</td>\n",
       "      <td>tcp</td>\n",
       "      <td>http</td>\n",
       "      <td>1.477656</td>\n",
       "      <td>149.0</td>\n",
       "      <td>128252.0</td>\n",
       "      <td>SF</td>\n",
       "      <td>2896</td>\n",
       "      <td>ShADadttcfF</td>\n",
       "      <td>94</td>\n",
       "      <td>5525</td>\n",
       "      <td>96</td>\n",
       "      <td>139044</td>\n",
       "      <td>Benign</td>\n",
       "    </tr>\n",
       "    <tr>\n",
       "      <th>4</th>\n",
       "      <td>41042</td>\n",
       "      <td>80</td>\n",
       "      <td>tcp</td>\n",
       "      <td>NaN</td>\n",
       "      <td>3.147116</td>\n",
       "      <td>0.0</td>\n",
       "      <td>0.0</td>\n",
       "      <td>S0</td>\n",
       "      <td>0</td>\n",
       "      <td>S</td>\n",
       "      <td>3</td>\n",
       "      <td>180</td>\n",
       "      <td>0</td>\n",
       "      <td>0</td>\n",
       "      <td>Benign</td>\n",
       "    </tr>\n",
       "  </tbody>\n",
       "</table>\n",
       "</div>"
      ],
      "text/plain": [
       "   id.orig_p  id.resp_p proto service  duration  orig_bytes  resp_bytes  \\\n",
       "0      41040         80   tcp     NaN  3.139211         0.0         0.0   \n",
       "1      41040         80   tcp     NaN       NaN         NaN         NaN   \n",
       "2      41040         80   tcp     NaN       NaN         NaN         NaN   \n",
       "3      41040         80   tcp    http  1.477656       149.0    128252.0   \n",
       "4      41042         80   tcp     NaN  3.147116         0.0         0.0   \n",
       "\n",
       "  conn_state  missed_bytes      history  orig_pkts  orig_ip_bytes  resp_pkts  \\\n",
       "0         S0             0            S          3            180          0   \n",
       "1         S0             0            S          1             60          0   \n",
       "2         S0             0            S          1             60          0   \n",
       "3         SF          2896  ShADadttcfF         94           5525         96   \n",
       "4         S0             0            S          3            180          0   \n",
       "\n",
       "   resp_ip_bytes   label  \n",
       "0              0  Benign  \n",
       "1              0  Benign  \n",
       "2              0  Benign  \n",
       "3         139044  Benign  \n",
       "4              0  Benign  "
      ]
     },
     "execution_count": 73,
     "metadata": {},
     "output_type": "execute_result"
    }
   ],
   "source": [
    "# Check dataset head\n",
    "data_df.head()"
   ]
  },
  {
   "cell_type": "code",
   "execution_count": 74,
   "metadata": {},
   "outputs": [
    {
     "name": "stdout",
     "output_type": "stream",
     "text": [
      "<class 'pandas.core.frame.DataFrame'>\n",
      "Int64Index: 23145 entries, 0 to 23144\n",
      "Data columns (total 15 columns):\n",
      " #   Column         Non-Null Count  Dtype  \n",
      "---  ------         --------------  -----  \n",
      " 0   id.orig_p      23145 non-null  int64  \n",
      " 1   id.resp_p      23145 non-null  int64  \n",
      " 2   proto          23145 non-null  object \n",
      " 3   service        1847 non-null   object \n",
      " 4   duration       5321 non-null   float64\n",
      " 5   orig_bytes     5321 non-null   float64\n",
      " 6   resp_bytes     5321 non-null   float64\n",
      " 7   conn_state     23145 non-null  object \n",
      " 8   missed_bytes   23145 non-null  int64  \n",
      " 9   history        23145 non-null  object \n",
      " 10  orig_pkts      23145 non-null  int64  \n",
      " 11  orig_ip_bytes  23145 non-null  int64  \n",
      " 12  resp_pkts      23145 non-null  int64  \n",
      " 13  resp_ip_bytes  23145 non-null  int64  \n",
      " 14  label          23145 non-null  object \n",
      "dtypes: float64(3), int64(7), object(5)\n",
      "memory usage: 2.8+ MB\n"
     ]
    }
   ],
   "source": [
    "# Check dataset summary\n",
    "data_df.info()"
   ]
  },
  {
   "cell_type": "markdown",
   "metadata": {},
   "source": [
    "### 3. DATA PREPROCESSING"
   ]
  },
  {
   "cell_type": "markdown",
   "metadata": {},
   "source": [
    "#### Analyzing target attribute"
   ]
  },
  {
   "cell_type": "code",
   "execution_count": 75,
   "metadata": {},
   "outputs": [
    {
     "data": {
      "text/plain": [
       "0"
      ]
     },
     "execution_count": 75,
     "metadata": {},
     "output_type": "execute_result"
    }
   ],
   "source": [
    "# Check null values in the target attribute\n",
    "data_df[\"label\"].isna().sum()"
   ]
  },
  {
   "cell_type": "code",
   "execution_count": 76,
   "metadata": {},
   "outputs": [
    {
     "data": {
      "text/plain": [
       "Malicious    21222\n",
       "Benign        1923\n",
       "Name: label, dtype: int64"
      ]
     },
     "execution_count": 76,
     "metadata": {},
     "output_type": "execute_result"
    }
   ],
   "source": [
    "# Check values distribution\n",
    "data_df[\"label\"].value_counts()"
   ]
  },
  {
   "cell_type": "code",
   "execution_count": 77,
   "metadata": {},
   "outputs": [
    {
     "data": {
      "text/plain": [
       "<Axes: xlabel='label', ylabel='count'>"
      ]
     },
     "execution_count": 77,
     "metadata": {},
     "output_type": "execute_result"
    },
    {
     "data": {
      "image/png": "[encoded data removed]",
      "text/plain": [
       "<Figure size 640x480 with 1 Axes>"
      ]
     },
     "metadata": {},
     "output_type": "display_data"
    }
   ],
   "source": [
    "# Plot target attribute on a count plot\n",
    "sns.countplot(data=data_df, x=\"label\")"
   ]
  },
  {
   "cell_type": "markdown",
   "metadata": {},
   "source": [
    "- As we can see from these statistics, the target attribute is highly imbalanced.\n",
    "- We will maintain the original distribution for now until we explore the models' performance. \n",
    "- Suitable techniques will be applied to re-balance the labels if we couldn't achieve an acceptable prediction accuracy. "
   ]
  },
  {
   "cell_type": "markdown",
   "metadata": {},
   "source": [
    "#### Encoding target attribute"
   ]
  },
  {
   "cell_type": "code",
   "execution_count": 78,
   "metadata": {},
   "outputs": [
    {
     "data": {
      "text/plain": [
       "{'Benign': 0, 'Malicious': 1}"
      ]
     },
     "execution_count": 78,
     "metadata": {},
     "output_type": "execute_result"
    }
   ],
   "source": [
    "# Initialize encoder with default parameters\n",
    "target_le = LabelEncoder()\n",
    "\n",
    "# Fit the encoder to the target attribute\n",
    "encoded_attribute = target_le.fit_transform(data_df[\"label\"])\n",
    "\n",
    "# Replace target attribute with encoded values\n",
    "data_df[\"label\"] = encoded_attribute\n",
    "\n",
    "# Check mapped labels\n",
    "dict(zip(target_le.classes_, target_le.transform(target_le.classes_)))"
   ]
  },
  {
   "cell_type": "markdown",
   "metadata": {},
   "source": [
    "#### Handling outliers"
   ]
  },
  {
   "cell_type": "code",
   "execution_count": 79,
   "metadata": {},
   "outputs": [
    {
     "data": {
      "text/html": [
       "<div>\n",
       "<style scoped>\n",
       "    .dataframe tbody tr th:only-of-type {\n",
       "        vertical-align: middle;\n",
       "    }\n",
       "\n",
       "    .dataframe tbody tr th {\n",
       "        vertical-align: top;\n",
       "    }\n",
       "\n",
       "    .dataframe thead th {\n",
       "        text-align: right;\n",
       "    }\n",
       "</style>\n",
       "<table border=\"1\" class=\"dataframe\">\n",
       "  <thead>\n",
       "    <tr style=\"text-align: right;\">\n",
       "      <th></th>\n",
       "      <th>duration</th>\n",
       "      <th>orig_bytes</th>\n",
       "      <th>resp_bytes</th>\n",
       "      <th>missed_bytes</th>\n",
       "      <th>orig_pkts</th>\n",
       "      <th>orig_ip_bytes</th>\n",
       "      <th>resp_pkts</th>\n",
       "      <th>resp_ip_bytes</th>\n",
       "    </tr>\n",
       "  </thead>\n",
       "  <tbody>\n",
       "    <tr>\n",
       "      <th>count</th>\n",
       "      <td>5321.000000</td>\n",
       "      <td>5.321000e+03</td>\n",
       "      <td>5321.000000</td>\n",
       "      <td>23145.000000</td>\n",
       "      <td>23145.000000</td>\n",
       "      <td>2.314500e+04</td>\n",
       "      <td>23145.000000</td>\n",
       "      <td>23145.000000</td>\n",
       "    </tr>\n",
       "    <tr>\n",
       "      <th>mean</th>\n",
       "      <td>22.806503</td>\n",
       "      <td>1.478868e+04</td>\n",
       "      <td>350.429431</td>\n",
       "      <td>2.127112</td>\n",
       "      <td>6.375157</td>\n",
       "      <td>3.664312e+03</td>\n",
       "      <td>0.611017</td>\n",
       "      <td>111.218967</td>\n",
       "    </tr>\n",
       "    <tr>\n",
       "      <th>std</th>\n",
       "      <td>722.522302</td>\n",
       "      <td>1.036441e+06</td>\n",
       "      <td>5378.262771</td>\n",
       "      <td>102.490787</td>\n",
       "      <td>178.548725</td>\n",
       "      <td>5.003762e+05</td>\n",
       "      <td>8.305898</td>\n",
       "      <td>2713.082822</td>\n",
       "    </tr>\n",
       "    <tr>\n",
       "      <th>min</th>\n",
       "      <td>0.000497</td>\n",
       "      <td>0.000000e+00</td>\n",
       "      <td>0.000000</td>\n",
       "      <td>0.000000</td>\n",
       "      <td>0.000000</td>\n",
       "      <td>0.000000e+00</td>\n",
       "      <td>0.000000</td>\n",
       "      <td>0.000000</td>\n",
       "    </tr>\n",
       "    <tr>\n",
       "      <th>25%</th>\n",
       "      <td>2.075814</td>\n",
       "      <td>0.000000e+00</td>\n",
       "      <td>0.000000</td>\n",
       "      <td>0.000000</td>\n",
       "      <td>0.000000</td>\n",
       "      <td>0.000000e+00</td>\n",
       "      <td>0.000000</td>\n",
       "      <td>0.000000</td>\n",
       "    </tr>\n",
       "    <tr>\n",
       "      <th>50%</th>\n",
       "      <td>3.110974</td>\n",
       "      <td>0.000000e+00</td>\n",
       "      <td>0.000000</td>\n",
       "      <td>0.000000</td>\n",
       "      <td>0.000000</td>\n",
       "      <td>0.000000e+00</td>\n",
       "      <td>0.000000</td>\n",
       "      <td>0.000000</td>\n",
       "    </tr>\n",
       "    <tr>\n",
       "      <th>75%</th>\n",
       "      <td>3.153695</td>\n",
       "      <td>6.200000e+01</td>\n",
       "      <td>243.000000</td>\n",
       "      <td>0.000000</td>\n",
       "      <td>1.000000</td>\n",
       "      <td>7.600000e+01</td>\n",
       "      <td>0.000000</td>\n",
       "      <td>0.000000</td>\n",
       "    </tr>\n",
       "    <tr>\n",
       "      <th>max</th>\n",
       "      <td>48976.819063</td>\n",
       "      <td>7.554662e+07</td>\n",
       "      <td>164266.000000</td>\n",
       "      <td>5792.000000</td>\n",
       "      <td>18444.000000</td>\n",
       "      <td>7.606306e+07</td>\n",
       "      <td>1070.000000</td>\n",
       "      <td>168910.000000</td>\n",
       "    </tr>\n",
       "  </tbody>\n",
       "</table>\n",
       "</div>"
      ],
      "text/plain": [
       "           duration    orig_bytes     resp_bytes  missed_bytes     orig_pkts  \\\n",
       "count   5321.000000  5.321000e+03    5321.000000  23145.000000  23145.000000   \n",
       "mean      22.806503  1.478868e+04     350.429431      2.127112      6.375157   \n",
       "std      722.522302  1.036441e+06    5378.262771    102.490787    178.548725   \n",
       "min        0.000497  0.000000e+00       0.000000      0.000000      0.000000   \n",
       "25%        2.075814  0.000000e+00       0.000000      0.000000      0.000000   \n",
       "50%        3.110974  0.000000e+00       0.000000      0.000000      0.000000   \n",
       "75%        3.153695  6.200000e+01     243.000000      0.000000      1.000000   \n",
       "max    48976.819063  7.554662e+07  164266.000000   5792.000000  18444.000000   \n",
       "\n",
       "       orig_ip_bytes     resp_pkts  resp_ip_bytes  \n",
       "count   2.314500e+04  23145.000000   23145.000000  \n",
       "mean    3.664312e+03      0.611017     111.218967  \n",
       "std     5.003762e+05      8.305898    2713.082822  \n",
       "min     0.000000e+00      0.000000       0.000000  \n",
       "25%     0.000000e+00      0.000000       0.000000  \n",
       "50%     0.000000e+00      0.000000       0.000000  \n",
       "75%     7.600000e+01      0.000000       0.000000  \n",
       "max     7.606306e+07   1070.000000  168910.000000  "
      ]
     },
     "execution_count": 79,
     "metadata": {},
     "output_type": "execute_result"
    }
   ],
   "source": [
    "# Use describe() method to obtain general statistics about the numerical features\n",
    "numerical_features = [\"duration\", \"orig_bytes\",\t\"resp_bytes\", \"missed_bytes\", \"orig_pkts\",\t\"orig_ip_bytes\", \"resp_pkts\", \"resp_ip_bytes\"]\n",
    "data_df[numerical_features].describe()"
   ]
  },
  {
   "cell_type": "markdown",
   "metadata": {},
   "source": [
    "- In a quick reading of the statistical summary, we noticed many features with values that can be seen as outliers. \n",
    "- It's fairly difficult to confirm such values and their actual reasons without proper explanations by experts in the corresponding domain.\n",
    "- For the sake of this demo, we will treat only \"duration\" as a feature with actual outliers as it's the only feature with a significant amount of unique values."
   ]
  },
  {
   "cell_type": "code",
   "execution_count": 80,
   "metadata": {},
   "outputs": [
    {
     "data": {
      "text/plain": [
       "<Axes: ylabel='duration'>"
      ]
     },
     "execution_count": 80,
     "metadata": {},
     "output_type": "execute_result"
    },
    {
     "data": {
      "image/png": "[encoded data removed]",
      "text/plain": [
       "<Figure size 640x480 with 1 Axes>"
      ]
     },
     "metadata": {},
     "output_type": "display_data"
    }
   ],
   "source": [
    "# Plot \"duration\" feature on a boxplot\n",
    "sns.boxplot(data=data_df, y=\"duration\")"
   ]
  },
  {
   "cell_type": "code",
   "execution_count": 81,
   "metadata": {},
   "outputs": [
    {
     "name": "stdout",
     "output_type": "stream",
     "text": [
      "(min,max) bounds for \"duration\": (0.4589924999999997,4.7705165)\n"
     ]
    }
   ],
   "source": [
    "# Replace outliers using IQR (Inter-quartile Range)\n",
    "outliers_columns = ['duration']\n",
    "for col_name in outliers_columns:\n",
    "    # Calculate first and third quartiles\n",
    "    q1, q3 = np.nanpercentile(data_df[col_name],[25,75])\n",
    "    \n",
    "    # Calculate the inter-quartile range\n",
    "    intr_qr = q3-q1\n",
    "\n",
    "    # Calculate lower and higher bounds\n",
    "    iqr_min_val = q1-(1.5*intr_qr)\n",
    "    iqr_max_val = q3+(1.5*intr_qr)\n",
    "    print(f\"(min,max) bounds for \\\"{col_name}\\\": ({iqr_min_val},{iqr_max_val})\")\n",
    "    \n",
    "    # Replace values that are less than min or larger then max with np.nan\n",
    "    data_df.loc[data_df[col_name] < iqr_min_val, col_name] = np.nan\n",
    "    data_df.loc[data_df[col_name] > iqr_max_val, col_name] = np.nan"
   ]
  },
  {
   "cell_type": "code",
   "execution_count": 82,
   "metadata": {},
   "outputs": [
    {
     "data": {
      "text/plain": [
       "count    3718.000000\n",
       "mean        2.848130\n",
       "std         0.806614\n",
       "min         0.553685\n",
       "25%         3.085004\n",
       "50%         3.110717\n",
       "75%         3.140398\n",
       "max         4.723553\n",
       "Name: duration, dtype: float64"
      ]
     },
     "execution_count": 82,
     "metadata": {},
     "output_type": "execute_result"
    }
   ],
   "source": [
    "# Reevaluate the new distribution of values\n",
    "data_df[\"duration\"].describe()"
   ]
  },
  {
   "cell_type": "markdown",
   "metadata": {},
   "source": [
    "#### Handling missing values"
   ]
  },
  {
   "cell_type": "code",
   "execution_count": 83,
   "metadata": {},
   "outputs": [
    {
     "data": {
      "text/plain": [
       "service          21298\n",
       "duration         19427\n",
       "orig_bytes       17824\n",
       "resp_bytes       17824\n",
       "id.orig_p            0\n",
       "id.resp_p            0\n",
       "proto                0\n",
       "conn_state           0\n",
       "missed_bytes         0\n",
       "history              0\n",
       "orig_pkts            0\n",
       "orig_ip_bytes        0\n",
       "resp_pkts            0\n",
       "resp_ip_bytes        0\n",
       "label                0\n",
       "dtype: int64"
      ]
     },
     "execution_count": 83,
     "metadata": {},
     "output_type": "execute_result"
    }
   ],
   "source": [
    "# Check the number of null values in each column\n",
    "data_df.isnull().sum().sort_values(ascending=False)"
   ]
  },
  {
   "cell_type": "code",
   "execution_count": 84,
   "metadata": {},
   "outputs": [
    {
     "data": {
      "text/plain": [
       "<Axes: >"
      ]
     },
     "execution_count": 84,
     "metadata": {},
     "output_type": "execute_result"
    },
    {
     "data": {
      "image/png": "[encoded data removed]",
      "text/plain": [
       "<Figure size 640x480 with 1 Axes>"
      ]
     },
     "metadata": {},
     "output_type": "display_data"
    }
   ],
   "source": [
    "# Check null values using heatmap\n",
    "sns.heatmap(data=data_df.isnull(), yticklabels=False, cbar=False, cmap=\"viridis\")"
   ]
  },
  {
   "cell_type": "markdown",
   "metadata": {},
   "source": [
    "- There are only 4 columns with a lot of missing values, one categorical (\"service) and three numerical (\"duration\", \"orig_bytes\", \"resp_bytes\").\n",
    "- One possible approach is to entirely discard these columns from the dataset. \n",
    "- Instead, we will try to impute their values to preserve any hidden information and check if we can obtain better prediction performance."
   ]
  },
  {
   "cell_type": "markdown",
   "metadata": {},
   "source": [
    "##### Impute missing values: categorical features"
   ]
  },
  {
   "cell_type": "code",
   "execution_count": 85,
   "metadata": {},
   "outputs": [
    {
     "data": {
      "text/plain": [
       "<Axes: xlabel='label', ylabel='count'>"
      ]
     },
     "execution_count": 85,
     "metadata": {},
     "output_type": "execute_result"
    },
    {
     "data": {
      "image/png": "[encoded data removed]",
      "text/plain": [
       "<Figure size 640x480 with 1 Axes>"
      ]
     },
     "metadata": {},
     "output_type": "display_data"
    }
   ],
   "source": [
    "# Check the relationship between the \"service\" and the target attribute\n",
    "sns.countplot(data=data_df, x=\"label\", hue=\"service\")"
   ]
  },
  {
   "cell_type": "markdown",
   "metadata": {},
   "source": [
    "- Due to this visualization, almost all *Malicious* observations belong to a specific service type (\"irc\"), while the other 3 types represent *Benign* samples.\n",
    "- Accordingly, although \"service\" feature has high number of missing values, it has a strong correlation with the target attribute.\n",
    "- The decision here is to keep \"service\" attribute while trying to impute its missing values using another classifier. "
   ]
  },
  {
   "cell_type": "code",
   "execution_count": 86,
   "metadata": {},
   "outputs": [
    {
     "name": "stdout",
     "output_type": "stream",
     "text": [
      "Prediction accuracy for 'service' is: 1.0\n",
      "Classification report:\n",
      "              precision    recall  f1-score   support\n",
      "\n",
      "         dns       1.00      1.00      1.00        41\n",
      "        http       1.00      1.00      1.00         5\n",
      "         irc       1.00      1.00      1.00       324\n",
      "\n",
      "    accuracy                           1.00       370\n",
      "   macro avg       1.00      1.00      1.00       370\n",
      "weighted avg       1.00      1.00      1.00       370\n",
      "\n"
     ]
    }
   ],
   "source": [
    "# Select specific columns to be used for the classification, here we initially select the numerical attributes with no missing values.\n",
    "srv_training_columns = [\"id.orig_p\",\"id.resp_p\",\"missed_bytes\",\"orig_pkts\",\"orig_ip_bytes\",\"resp_pkts\",\"resp_ip_bytes\"] \n",
    "\n",
    "# Split the rows into two datasets containing rows with/without \"service\"\n",
    "data_df_with_service = data_df[data_df[\"service\"].notna()]\n",
    "data_df_no_service = data_df[data_df[\"service\"].isna()]\n",
    "\n",
    "# Split the service dataset into dependent and independent features\n",
    "srv_X = data_df_with_service[srv_training_columns]\n",
    "srv_y = data_df_with_service[\"service\"].values\n",
    "\n",
    "# Split into train/test subsets\n",
    "srv_X_train, srv_X_test, srv_y_train, srv_y_test = train_test_split(srv_X, srv_y, test_size=0.2, random_state=0)\n",
    "\n",
    "# Create KNN estimator and fit it\n",
    "srv_knn = KNeighborsClassifier(n_neighbors=3)\n",
    "srv_knn.fit(srv_X_train, srv_y_train)\n",
    "\n",
    "# Predict missing values\n",
    "srv_y_pred = srv_knn.predict(srv_X_test)\n",
    "\n",
    "# Check predictions accuracy\n",
    "srv_accuracy_test = accuracy_score(srv_y_test, srv_y_pred)\n",
    "print(f\"Prediction accuracy for 'service' is: {srv_accuracy_test}\")\n",
    "print(\"Classification report:\")\n",
    "print(classification_report(srv_y_test, srv_y_pred))"
   ]
  },
  {
   "cell_type": "markdown",
   "metadata": {},
   "source": [
    "The classification model achieved an accuracy of 100%, which means all samples in the test subset were correctly predicted. Now we can use this model to predict missing \"service\" fields."
   ]
  },
  {
   "cell_type": "code",
   "execution_count": 87,
   "metadata": {},
   "outputs": [],
   "source": [
    "# Predict \"service\" for missing values\n",
    "srv_predictions = srv_knn.predict(data_df_no_service[srv_training_columns])\n",
    "\n",
    "# Update the original data set with predicted \"service\" values\n",
    "data_df.loc[data_df[\"service\"].isna(), \"service\"] = srv_predictions"
   ]
  },
  {
   "cell_type": "markdown",
   "metadata": {},
   "source": [
    "##### Impute missing values: numerical features"
   ]
  },
  {
   "cell_type": "code",
   "execution_count": 88,
   "metadata": {},
   "outputs": [],
   "source": [
    "# To preserve hidden correlations with other features in the dataset, we will use a KNN imputer to estimate the missing values based on relationships with other numerical features.\n",
    "numerical_features = data_df.drop(\"label\", axis=1).select_dtypes(include=\"number\").columns\n",
    "knn_imputer = KNNImputer()\n",
    "data_df_after_imputing = knn_imputer.fit_transform(data_df[numerical_features])"
   ]
  },
  {
   "cell_type": "code",
   "execution_count": 89,
   "metadata": {},
   "outputs": [],
   "source": [
    "# Update original data set to fill missing values with imputed ones\n",
    "data_df[numerical_features] = data_df_after_imputing"
   ]
  },
  {
   "cell_type": "code",
   "execution_count": 90,
   "metadata": {},
   "outputs": [
    {
     "data": {
      "text/plain": [
       "id.orig_p        0\n",
       "id.resp_p        0\n",
       "proto            0\n",
       "service          0\n",
       "duration         0\n",
       "orig_bytes       0\n",
       "resp_bytes       0\n",
       "conn_state       0\n",
       "missed_bytes     0\n",
       "history          0\n",
       "orig_pkts        0\n",
       "orig_ip_bytes    0\n",
       "resp_pkts        0\n",
       "resp_ip_bytes    0\n",
       "label            0\n",
       "dtype: int64"
      ]
     },
     "execution_count": 90,
     "metadata": {},
     "output_type": "execute_result"
    }
   ],
   "source": [
    "# Confirm all missing values were successfully imputed\n",
    "data_df.isnull().sum().sort_values(ascending=False)"
   ]
  },
  {
   "cell_type": "markdown",
   "metadata": {},
   "source": [
    "#### Scaling numerical attributes"
   ]
  },
  {
   "cell_type": "markdown",
   "metadata": {},
   "source": [
    "As we aim to compare several classifiers, and since some of them rely on distance-based comparisons, we will scale the numerical features to have them represented in a unified distribution."
   ]
  },
  {
   "cell_type": "code",
   "execution_count": 91,
   "metadata": {},
   "outputs": [
    {
     "data": {
      "text/html": [
       "<div>\n",
       "<style scoped>\n",
       "    .dataframe tbody tr th:only-of-type {\n",
       "        vertical-align: middle;\n",
       "    }\n",
       "\n",
       "    .dataframe tbody tr th {\n",
       "        vertical-align: top;\n",
       "    }\n",
       "\n",
       "    .dataframe thead th {\n",
       "        text-align: right;\n",
       "    }\n",
       "</style>\n",
       "<table border=\"1\" class=\"dataframe\">\n",
       "  <thead>\n",
       "    <tr style=\"text-align: right;\">\n",
       "      <th></th>\n",
       "      <th>id.orig_p</th>\n",
       "      <th>id.resp_p</th>\n",
       "      <th>duration</th>\n",
       "      <th>orig_bytes</th>\n",
       "      <th>resp_bytes</th>\n",
       "      <th>missed_bytes</th>\n",
       "      <th>orig_pkts</th>\n",
       "      <th>orig_ip_bytes</th>\n",
       "      <th>resp_pkts</th>\n",
       "      <th>resp_ip_bytes</th>\n",
       "    </tr>\n",
       "  </thead>\n",
       "  <tbody>\n",
       "    <tr>\n",
       "      <th>count</th>\n",
       "      <td>23145.000000</td>\n",
       "      <td>23145.000000</td>\n",
       "      <td>23145.000000</td>\n",
       "      <td>2.314500e+04</td>\n",
       "      <td>23145.000000</td>\n",
       "      <td>23145.000000</td>\n",
       "      <td>23145.000000</td>\n",
       "      <td>2.314500e+04</td>\n",
       "      <td>23145.000000</td>\n",
       "      <td>23145.000000</td>\n",
       "    </tr>\n",
       "    <tr>\n",
       "      <th>mean</th>\n",
       "      <td>56409.651847</td>\n",
       "      <td>2324.573558</td>\n",
       "      <td>3.019661</td>\n",
       "      <td>3.435934e+03</td>\n",
       "      <td>87.489721</td>\n",
       "      <td>2.127112</td>\n",
       "      <td>6.375157</td>\n",
       "      <td>3.664312e+03</td>\n",
       "      <td>0.611017</td>\n",
       "      <td>111.218967</td>\n",
       "    </tr>\n",
       "    <tr>\n",
       "      <th>std</th>\n",
       "      <td>17176.590987</td>\n",
       "      <td>5362.933817</td>\n",
       "      <td>0.362171</td>\n",
       "      <td>4.969529e+05</td>\n",
       "      <td>2582.581881</td>\n",
       "      <td>102.490787</td>\n",
       "      <td>178.548725</td>\n",
       "      <td>5.003762e+05</td>\n",
       "      <td>8.305898</td>\n",
       "      <td>2713.082822</td>\n",
       "    </tr>\n",
       "    <tr>\n",
       "      <th>min</th>\n",
       "      <td>0.000000</td>\n",
       "      <td>1.000000</td>\n",
       "      <td>0.553685</td>\n",
       "      <td>0.000000e+00</td>\n",
       "      <td>0.000000</td>\n",
       "      <td>0.000000</td>\n",
       "      <td>0.000000</td>\n",
       "      <td>0.000000e+00</td>\n",
       "      <td>0.000000</td>\n",
       "      <td>0.000000</td>\n",
       "    </tr>\n",
       "    <tr>\n",
       "      <th>25%</th>\n",
       "      <td>53622.000000</td>\n",
       "      <td>80.000000</td>\n",
       "      <td>3.093835</td>\n",
       "      <td>4.800000e+01</td>\n",
       "      <td>7.800000</td>\n",
       "      <td>0.000000</td>\n",
       "      <td>0.000000</td>\n",
       "      <td>0.000000e+00</td>\n",
       "      <td>0.000000</td>\n",
       "      <td>0.000000</td>\n",
       "    </tr>\n",
       "    <tr>\n",
       "      <th>50%</th>\n",
       "      <td>65279.000000</td>\n",
       "      <td>80.000000</td>\n",
       "      <td>3.093835</td>\n",
       "      <td>5.460000e+01</td>\n",
       "      <td>7.800000</td>\n",
       "      <td>0.000000</td>\n",
       "      <td>0.000000</td>\n",
       "      <td>0.000000e+00</td>\n",
       "      <td>0.000000</td>\n",
       "      <td>0.000000</td>\n",
       "    </tr>\n",
       "    <tr>\n",
       "      <th>75%</th>\n",
       "      <td>65279.000000</td>\n",
       "      <td>6667.000000</td>\n",
       "      <td>3.093835</td>\n",
       "      <td>5.460000e+01</td>\n",
       "      <td>7.800000</td>\n",
       "      <td>0.000000</td>\n",
       "      <td>1.000000</td>\n",
       "      <td>7.600000e+01</td>\n",
       "      <td>0.000000</td>\n",
       "      <td>0.000000</td>\n",
       "    </tr>\n",
       "    <tr>\n",
       "      <th>max</th>\n",
       "      <td>65279.000000</td>\n",
       "      <td>63798.000000</td>\n",
       "      <td>4.723553</td>\n",
       "      <td>7.554662e+07</td>\n",
       "      <td>164266.000000</td>\n",
       "      <td>5792.000000</td>\n",
       "      <td>18444.000000</td>\n",
       "      <td>7.606306e+07</td>\n",
       "      <td>1070.000000</td>\n",
       "      <td>168910.000000</td>\n",
       "    </tr>\n",
       "  </tbody>\n",
       "</table>\n",
       "</div>"
      ],
      "text/plain": [
       "          id.orig_p     id.resp_p      duration    orig_bytes     resp_bytes  \\\n",
       "count  23145.000000  23145.000000  23145.000000  2.314500e+04   23145.000000   \n",
       "mean   56409.651847   2324.573558      3.019661  3.435934e+03      87.489721   \n",
       "std    17176.590987   5362.933817      0.362171  4.969529e+05    2582.581881   \n",
       "min        0.000000      1.000000      0.553685  0.000000e+00       0.000000   \n",
       "25%    53622.000000     80.000000      3.093835  4.800000e+01       7.800000   \n",
       "50%    65279.000000     80.000000      3.093835  5.460000e+01       7.800000   \n",
       "75%    65279.000000   6667.000000      3.093835  5.460000e+01       7.800000   \n",
       "max    65279.000000  63798.000000      4.723553  7.554662e+07  164266.000000   \n",
       "\n",
       "       missed_bytes     orig_pkts  orig_ip_bytes     resp_pkts  resp_ip_bytes  \n",
       "count  23145.000000  23145.000000   2.314500e+04  23145.000000   23145.000000  \n",
       "mean       2.127112      6.375157   3.664312e+03      0.611017     111.218967  \n",
       "std      102.490787    178.548725   5.003762e+05      8.305898    2713.082822  \n",
       "min        0.000000      0.000000   0.000000e+00      0.000000       0.000000  \n",
       "25%        0.000000      0.000000   0.000000e+00      0.000000       0.000000  \n",
       "50%        0.000000      0.000000   0.000000e+00      0.000000       0.000000  \n",
       "75%        0.000000      1.000000   7.600000e+01      0.000000       0.000000  \n",
       "max     5792.000000  18444.000000   7.606306e+07   1070.000000  168910.000000  "
      ]
     },
     "execution_count": 91,
     "metadata": {},
     "output_type": "execute_result"
    }
   ],
   "source": [
    "# Check statistics for numerical features\n",
    "numerical_features = [\"id.orig_p\", \"id.resp_p\", \"duration\", \"orig_bytes\", \"resp_bytes\", \"missed_bytes\", \"orig_pkts\", \"orig_ip_bytes\",\t\"resp_pkts\", \"resp_ip_bytes\"]\n",
    "data_df[numerical_features].describe()"
   ]
  },
  {
   "cell_type": "markdown",
   "metadata": {},
   "source": [
    "Since most attributes have no normal distribution, it's more suitable to apply a normalization (between 0 and 1, using MinMaxScaler) instead of standardization."
   ]
  },
  {
   "cell_type": "code",
   "execution_count": 92,
   "metadata": {},
   "outputs": [],
   "source": [
    "# Initialize and apply MinMaxScaler scaler\n",
    "min_max_scaler = MinMaxScaler()\n",
    "data_df[numerical_features] = min_max_scaler.fit_transform(data_df[numerical_features])\n"
   ]
  },
  {
   "cell_type": "code",
   "execution_count": 93,
   "metadata": {},
   "outputs": [
    {
     "data": {
      "text/html": [
       "<div>\n",
       "<style scoped>\n",
       "    .dataframe tbody tr th:only-of-type {\n",
       "        vertical-align: middle;\n",
       "    }\n",
       "\n",
       "    .dataframe tbody tr th {\n",
       "        vertical-align: top;\n",
       "    }\n",
       "\n",
       "    .dataframe thead th {\n",
       "        text-align: right;\n",
       "    }\n",
       "</style>\n",
       "<table border=\"1\" class=\"dataframe\">\n",
       "  <thead>\n",
       "    <tr style=\"text-align: right;\">\n",
       "      <th></th>\n",
       "      <th>id.orig_p</th>\n",
       "      <th>id.resp_p</th>\n",
       "      <th>duration</th>\n",
       "      <th>orig_bytes</th>\n",
       "      <th>resp_bytes</th>\n",
       "      <th>missed_bytes</th>\n",
       "      <th>orig_pkts</th>\n",
       "      <th>orig_ip_bytes</th>\n",
       "      <th>resp_pkts</th>\n",
       "      <th>resp_ip_bytes</th>\n",
       "    </tr>\n",
       "  </thead>\n",
       "  <tbody>\n",
       "    <tr>\n",
       "      <th>count</th>\n",
       "      <td>23145.000000</td>\n",
       "      <td>23145.000000</td>\n",
       "      <td>23145.000000</td>\n",
       "      <td>2.314500e+04</td>\n",
       "      <td>23145.000000</td>\n",
       "      <td>23145.000000</td>\n",
       "      <td>23145.000000</td>\n",
       "      <td>2.314500e+04</td>\n",
       "      <td>23145.000000</td>\n",
       "      <td>23145.000000</td>\n",
       "    </tr>\n",
       "    <tr>\n",
       "      <th>mean</th>\n",
       "      <td>0.864132</td>\n",
       "      <td>0.036421</td>\n",
       "      <td>0.591380</td>\n",
       "      <td>4.548098e-05</td>\n",
       "      <td>0.000533</td>\n",
       "      <td>0.000367</td>\n",
       "      <td>0.000346</td>\n",
       "      <td>4.817466e-05</td>\n",
       "      <td>0.000571</td>\n",
       "      <td>0.000658</td>\n",
       "    </tr>\n",
       "    <tr>\n",
       "      <th>std</th>\n",
       "      <td>0.263126</td>\n",
       "      <td>0.084062</td>\n",
       "      <td>0.086854</td>\n",
       "      <td>6.578095e-03</td>\n",
       "      <td>0.015722</td>\n",
       "      <td>0.017695</td>\n",
       "      <td>0.009681</td>\n",
       "      <td>6.578439e-03</td>\n",
       "      <td>0.007763</td>\n",
       "      <td>0.016062</td>\n",
       "    </tr>\n",
       "    <tr>\n",
       "      <th>min</th>\n",
       "      <td>0.000000</td>\n",
       "      <td>0.000000</td>\n",
       "      <td>0.000000</td>\n",
       "      <td>0.000000e+00</td>\n",
       "      <td>0.000000</td>\n",
       "      <td>0.000000</td>\n",
       "      <td>0.000000</td>\n",
       "      <td>0.000000e+00</td>\n",
       "      <td>0.000000</td>\n",
       "      <td>0.000000</td>\n",
       "    </tr>\n",
       "    <tr>\n",
       "      <th>25%</th>\n",
       "      <td>0.821428</td>\n",
       "      <td>0.001238</td>\n",
       "      <td>0.609168</td>\n",
       "      <td>6.353692e-07</td>\n",
       "      <td>0.000047</td>\n",
       "      <td>0.000000</td>\n",
       "      <td>0.000000</td>\n",
       "      <td>0.000000e+00</td>\n",
       "      <td>0.000000</td>\n",
       "      <td>0.000000</td>\n",
       "    </tr>\n",
       "    <tr>\n",
       "      <th>50%</th>\n",
       "      <td>1.000000</td>\n",
       "      <td>0.001238</td>\n",
       "      <td>0.609168</td>\n",
       "      <td>7.227325e-07</td>\n",
       "      <td>0.000047</td>\n",
       "      <td>0.000000</td>\n",
       "      <td>0.000000</td>\n",
       "      <td>0.000000e+00</td>\n",
       "      <td>0.000000</td>\n",
       "      <td>0.000000</td>\n",
       "    </tr>\n",
       "    <tr>\n",
       "      <th>75%</th>\n",
       "      <td>1.000000</td>\n",
       "      <td>0.104488</td>\n",
       "      <td>0.609168</td>\n",
       "      <td>7.227325e-07</td>\n",
       "      <td>0.000047</td>\n",
       "      <td>0.000000</td>\n",
       "      <td>0.000054</td>\n",
       "      <td>9.991710e-07</td>\n",
       "      <td>0.000000</td>\n",
       "      <td>0.000000</td>\n",
       "    </tr>\n",
       "    <tr>\n",
       "      <th>max</th>\n",
       "      <td>1.000000</td>\n",
       "      <td>1.000000</td>\n",
       "      <td>1.000000</td>\n",
       "      <td>1.000000e+00</td>\n",
       "      <td>1.000000</td>\n",
       "      <td>1.000000</td>\n",
       "      <td>1.000000</td>\n",
       "      <td>1.000000e+00</td>\n",
       "      <td>1.000000</td>\n",
       "      <td>1.000000</td>\n",
       "    </tr>\n",
       "  </tbody>\n",
       "</table>\n",
       "</div>"
      ],
      "text/plain": [
       "          id.orig_p     id.resp_p      duration    orig_bytes    resp_bytes  \\\n",
       "count  23145.000000  23145.000000  23145.000000  2.314500e+04  23145.000000   \n",
       "mean       0.864132      0.036421      0.591380  4.548098e-05      0.000533   \n",
       "std        0.263126      0.084062      0.086854  6.578095e-03      0.015722   \n",
       "min        0.000000      0.000000      0.000000  0.000000e+00      0.000000   \n",
       "25%        0.821428      0.001238      0.609168  6.353692e-07      0.000047   \n",
       "50%        1.000000      0.001238      0.609168  7.227325e-07      0.000047   \n",
       "75%        1.000000      0.104488      0.609168  7.227325e-07      0.000047   \n",
       "max        1.000000      1.000000      1.000000  1.000000e+00      1.000000   \n",
       "\n",
       "       missed_bytes     orig_pkts  orig_ip_bytes     resp_pkts  resp_ip_bytes  \n",
       "count  23145.000000  23145.000000   2.314500e+04  23145.000000   23145.000000  \n",
       "mean       0.000367      0.000346   4.817466e-05      0.000571       0.000658  \n",
       "std        0.017695      0.009681   6.578439e-03      0.007763       0.016062  \n",
       "min        0.000000      0.000000   0.000000e+00      0.000000       0.000000  \n",
       "25%        0.000000      0.000000   0.000000e+00      0.000000       0.000000  \n",
       "50%        0.000000      0.000000   0.000000e+00      0.000000       0.000000  \n",
       "75%        0.000000      0.000054   9.991710e-07      0.000000       0.000000  \n",
       "max        1.000000      1.000000   1.000000e+00      1.000000       1.000000  "
      ]
     },
     "execution_count": 93,
     "metadata": {},
     "output_type": "execute_result"
    }
   ],
   "source": [
    "# Check statistics for scaled features\n",
    "data_df[numerical_features].describe()"
   ]
  },
  {
   "cell_type": "markdown",
   "metadata": {},
   "source": [
    "#### Encoding categorical features"
   ]
  },
  {
   "cell_type": "code",
   "execution_count": 94,
   "metadata": {},
   "outputs": [
    {
     "name": "stdout",
     "output_type": "stream",
     "text": [
      "<class 'pandas.core.frame.DataFrame'>\n",
      "Int64Index: 23145 entries, 0 to 23144\n",
      "Data columns (total 15 columns):\n",
      " #   Column         Non-Null Count  Dtype  \n",
      "---  ------         --------------  -----  \n",
      " 0   id.orig_p      23145 non-null  float64\n",
      " 1   id.resp_p      23145 non-null  float64\n",
      " 2   proto          23145 non-null  object \n",
      " 3   service        23145 non-null  object \n",
      " 4   duration       23145 non-null  float64\n",
      " 5   orig_bytes     23145 non-null  float64\n",
      " 6   resp_bytes     23145 non-null  float64\n",
      " 7   conn_state     23145 non-null  object \n",
      " 8   missed_bytes   23145 non-null  float64\n",
      " 9   history        23145 non-null  object \n",
      " 10  orig_pkts      23145 non-null  float64\n",
      " 11  orig_ip_bytes  23145 non-null  float64\n",
      " 12  resp_pkts      23145 non-null  float64\n",
      " 13  resp_ip_bytes  23145 non-null  float64\n",
      " 14  label          23145 non-null  int32  \n",
      "dtypes: float64(10), int32(1), object(4)\n",
      "memory usage: 2.7+ MB\n"
     ]
    }
   ],
   "source": [
    "# Look for categorical features in the dataset\n",
    "data_df.info()"
   ]
  },
  {
   "cell_type": "markdown",
   "metadata": {},
   "source": [
    "- Since all categorical features don't imply an ordered relationship between their values, they can be encoded using One-Hot Encoding.\n",
    "- We need first to check features with rare values and map them to \"other\", in order to avoid sparse columns with statistically negligible impact and higher computational effect."
   ]
  },
  {
   "cell_type": "markdown",
   "metadata": {},
   "source": [
    "##### Encoding categorical features: handle rare values"
   ]
  },
  {
   "cell_type": "code",
   "execution_count": 95,
   "metadata": {},
   "outputs": [
    {
     "name": "stdout",
     "output_type": "stream",
     "text": [
      "Column (proto) has (2) distinct values.\n",
      "Column (service) has (4) distinct values.\n",
      "Column (conn_state) has (6) distinct values.\n",
      "Column (history) has (26) distinct values.\n"
     ]
    }
   ],
   "source": [
    "# Check the number of unique values in each feature\n",
    "categorical_features = [\"proto\",\"service\",\"conn_state\",\"history\"]\n",
    "for c in categorical_features:\n",
    "    print(f\"Column ({c}) has ({data_df[c].nunique()}) distinct values.\")"
   ]
  },
  {
   "cell_type": "code",
   "execution_count": 96,
   "metadata": {},
   "outputs": [
    {
     "data": {
      "text/plain": [
       "C               14252\n",
       "S                5417\n",
       "ShAdDaf          1477\n",
       "D                 978\n",
       "Dd                836\n",
       "ShAdDaft          102\n",
       "ShAdfDr            48\n",
       "CCCC                6\n",
       "ShADadtcfF          3\n",
       "ShADadttcfF         3\n",
       "ShAdDatfr           2\n",
       "CCC                 2\n",
       "ShADadf             2\n",
       "ShDadAf             2\n",
       "ShAfdtDr            2\n",
       "ShADacdtfF          2\n",
       "ShADadtctfF         2\n",
       "ShAdDatf            1\n",
       "ShADadttfF          1\n",
       "ShAdD               1\n",
       "ShADadtctfFR        1\n",
       "ShAdDfr             1\n",
       "ShAD                1\n",
       "DdAtaFf             1\n",
       "ShADad              1\n",
       "ShAdDa              1\n",
       "Name: history, dtype: int64"
      ]
     },
     "execution_count": 96,
     "metadata": {},
     "output_type": "execute_result"
    }
   ],
   "source": [
    "# Check values of \"history\" because it has too many unique values.\n",
    "history_val_counts = data_df[\"history\"].value_counts()\n",
    "history_val_counts"
   ]
  },
  {
   "cell_type": "code",
   "execution_count": 97,
   "metadata": {},
   "outputs": [
    {
     "data": {
      "text/plain": [
       "C           14252\n",
       "S            5417\n",
       "ShAdDaf      1477\n",
       "D             978\n",
       "Dd            836\n",
       "ShAdDaft      102\n",
       "ShAdfDr        48\n",
       "Other          35\n",
       "Name: history, dtype: int64"
      ]
     },
     "execution_count": 97,
     "metadata": {},
     "output_type": "execute_result"
    }
   ],
   "source": [
    "# Map values to their frequencies\n",
    "history_freq_map = data_df[\"history\"].map(history_val_counts)\n",
    "\n",
    "# Replace low frequent values in \"history\" with \"Other\" using the corresponding frequency map\n",
    "data_df[\"history\"] = data_df[\"history\"].mask(history_freq_map < 10, \"Other\")\n",
    "\n",
    "# Check \"history\" values after mapping\n",
    "data_df[\"history\"].value_counts()"
   ]
  },
  {
   "cell_type": "markdown",
   "metadata": {},
   "source": [
    "##### Encoding categorical features: apply one-hot encoder"
   ]
  },
  {
   "cell_type": "code",
   "execution_count": 98,
   "metadata": {},
   "outputs": [
    {
     "data": {
      "text/html": [
       "<div>\n",
       "<style scoped>\n",
       "    .dataframe tbody tr th:only-of-type {\n",
       "        vertical-align: middle;\n",
       "    }\n",
       "\n",
       "    .dataframe tbody tr th {\n",
       "        vertical-align: top;\n",
       "    }\n",
       "\n",
       "    .dataframe thead th {\n",
       "        text-align: right;\n",
       "    }\n",
       "</style>\n",
       "<table border=\"1\" class=\"dataframe\">\n",
       "  <thead>\n",
       "    <tr style=\"text-align: right;\">\n",
       "      <th></th>\n",
       "      <th>proto_tcp</th>\n",
       "      <th>proto_udp</th>\n",
       "      <th>service_dhcp</th>\n",
       "      <th>service_dns</th>\n",
       "      <th>service_http</th>\n",
       "      <th>service_irc</th>\n",
       "      <th>conn_state_OTH</th>\n",
       "      <th>conn_state_RSTR</th>\n",
       "      <th>conn_state_S0</th>\n",
       "      <th>conn_state_S1</th>\n",
       "      <th>conn_state_S3</th>\n",
       "      <th>conn_state_SF</th>\n",
       "      <th>history_C</th>\n",
       "      <th>history_D</th>\n",
       "      <th>history_Dd</th>\n",
       "      <th>history_Other</th>\n",
       "      <th>history_S</th>\n",
       "      <th>history_ShAdDaf</th>\n",
       "      <th>history_ShAdDaft</th>\n",
       "      <th>history_ShAdfDr</th>\n",
       "    </tr>\n",
       "  </thead>\n",
       "  <tbody>\n",
       "    <tr>\n",
       "      <th>0</th>\n",
       "      <td>1.0</td>\n",
       "      <td>0.0</td>\n",
       "      <td>0.0</td>\n",
       "      <td>1.0</td>\n",
       "      <td>0.0</td>\n",
       "      <td>0.0</td>\n",
       "      <td>0.0</td>\n",
       "      <td>0.0</td>\n",
       "      <td>1.0</td>\n",
       "      <td>0.0</td>\n",
       "      <td>0.0</td>\n",
       "      <td>0.0</td>\n",
       "      <td>0.0</td>\n",
       "      <td>0.0</td>\n",
       "      <td>0.0</td>\n",
       "      <td>0.0</td>\n",
       "      <td>1.0</td>\n",
       "      <td>0.0</td>\n",
       "      <td>0.0</td>\n",
       "      <td>0.0</td>\n",
       "    </tr>\n",
       "    <tr>\n",
       "      <th>1</th>\n",
       "      <td>1.0</td>\n",
       "      <td>0.0</td>\n",
       "      <td>0.0</td>\n",
       "      <td>1.0</td>\n",
       "      <td>0.0</td>\n",
       "      <td>0.0</td>\n",
       "      <td>0.0</td>\n",
       "      <td>0.0</td>\n",
       "      <td>1.0</td>\n",
       "      <td>0.0</td>\n",
       "      <td>0.0</td>\n",
       "      <td>0.0</td>\n",
       "      <td>0.0</td>\n",
       "      <td>0.0</td>\n",
       "      <td>0.0</td>\n",
       "      <td>0.0</td>\n",
       "      <td>1.0</td>\n",
       "      <td>0.0</td>\n",
       "      <td>0.0</td>\n",
       "      <td>0.0</td>\n",
       "    </tr>\n",
       "    <tr>\n",
       "      <th>2</th>\n",
       "      <td>1.0</td>\n",
       "      <td>0.0</td>\n",
       "      <td>0.0</td>\n",
       "      <td>1.0</td>\n",
       "      <td>0.0</td>\n",
       "      <td>0.0</td>\n",
       "      <td>0.0</td>\n",
       "      <td>0.0</td>\n",
       "      <td>1.0</td>\n",
       "      <td>0.0</td>\n",
       "      <td>0.0</td>\n",
       "      <td>0.0</td>\n",
       "      <td>0.0</td>\n",
       "      <td>0.0</td>\n",
       "      <td>0.0</td>\n",
       "      <td>0.0</td>\n",
       "      <td>1.0</td>\n",
       "      <td>0.0</td>\n",
       "      <td>0.0</td>\n",
       "      <td>0.0</td>\n",
       "    </tr>\n",
       "    <tr>\n",
       "      <th>3</th>\n",
       "      <td>1.0</td>\n",
       "      <td>0.0</td>\n",
       "      <td>0.0</td>\n",
       "      <td>0.0</td>\n",
       "      <td>1.0</td>\n",
       "      <td>0.0</td>\n",
       "      <td>0.0</td>\n",
       "      <td>0.0</td>\n",
       "      <td>0.0</td>\n",
       "      <td>0.0</td>\n",
       "      <td>0.0</td>\n",
       "      <td>1.0</td>\n",
       "      <td>0.0</td>\n",
       "      <td>0.0</td>\n",
       "      <td>0.0</td>\n",
       "      <td>1.0</td>\n",
       "      <td>0.0</td>\n",
       "      <td>0.0</td>\n",
       "      <td>0.0</td>\n",
       "      <td>0.0</td>\n",
       "    </tr>\n",
       "    <tr>\n",
       "      <th>4</th>\n",
       "      <td>1.0</td>\n",
       "      <td>0.0</td>\n",
       "      <td>0.0</td>\n",
       "      <td>1.0</td>\n",
       "      <td>0.0</td>\n",
       "      <td>0.0</td>\n",
       "      <td>0.0</td>\n",
       "      <td>0.0</td>\n",
       "      <td>1.0</td>\n",
       "      <td>0.0</td>\n",
       "      <td>0.0</td>\n",
       "      <td>0.0</td>\n",
       "      <td>0.0</td>\n",
       "      <td>0.0</td>\n",
       "      <td>0.0</td>\n",
       "      <td>0.0</td>\n",
       "      <td>1.0</td>\n",
       "      <td>0.0</td>\n",
       "      <td>0.0</td>\n",
       "      <td>0.0</td>\n",
       "    </tr>\n",
       "    <tr>\n",
       "      <th>...</th>\n",
       "      <td>...</td>\n",
       "      <td>...</td>\n",
       "      <td>...</td>\n",
       "      <td>...</td>\n",
       "      <td>...</td>\n",
       "      <td>...</td>\n",
       "      <td>...</td>\n",
       "      <td>...</td>\n",
       "      <td>...</td>\n",
       "      <td>...</td>\n",
       "      <td>...</td>\n",
       "      <td>...</td>\n",
       "      <td>...</td>\n",
       "      <td>...</td>\n",
       "      <td>...</td>\n",
       "      <td>...</td>\n",
       "      <td>...</td>\n",
       "      <td>...</td>\n",
       "      <td>...</td>\n",
       "      <td>...</td>\n",
       "    </tr>\n",
       "    <tr>\n",
       "      <th>23140</th>\n",
       "      <td>1.0</td>\n",
       "      <td>0.0</td>\n",
       "      <td>0.0</td>\n",
       "      <td>0.0</td>\n",
       "      <td>0.0</td>\n",
       "      <td>1.0</td>\n",
       "      <td>0.0</td>\n",
       "      <td>0.0</td>\n",
       "      <td>0.0</td>\n",
       "      <td>0.0</td>\n",
       "      <td>1.0</td>\n",
       "      <td>0.0</td>\n",
       "      <td>0.0</td>\n",
       "      <td>0.0</td>\n",
       "      <td>0.0</td>\n",
       "      <td>0.0</td>\n",
       "      <td>0.0</td>\n",
       "      <td>1.0</td>\n",
       "      <td>0.0</td>\n",
       "      <td>0.0</td>\n",
       "    </tr>\n",
       "    <tr>\n",
       "      <th>23141</th>\n",
       "      <td>1.0</td>\n",
       "      <td>0.0</td>\n",
       "      <td>0.0</td>\n",
       "      <td>0.0</td>\n",
       "      <td>0.0</td>\n",
       "      <td>1.0</td>\n",
       "      <td>0.0</td>\n",
       "      <td>0.0</td>\n",
       "      <td>0.0</td>\n",
       "      <td>0.0</td>\n",
       "      <td>1.0</td>\n",
       "      <td>0.0</td>\n",
       "      <td>0.0</td>\n",
       "      <td>0.0</td>\n",
       "      <td>0.0</td>\n",
       "      <td>0.0</td>\n",
       "      <td>0.0</td>\n",
       "      <td>1.0</td>\n",
       "      <td>0.0</td>\n",
       "      <td>0.0</td>\n",
       "    </tr>\n",
       "    <tr>\n",
       "      <th>23142</th>\n",
       "      <td>0.0</td>\n",
       "      <td>1.0</td>\n",
       "      <td>1.0</td>\n",
       "      <td>0.0</td>\n",
       "      <td>0.0</td>\n",
       "      <td>0.0</td>\n",
       "      <td>0.0</td>\n",
       "      <td>0.0</td>\n",
       "      <td>1.0</td>\n",
       "      <td>0.0</td>\n",
       "      <td>0.0</td>\n",
       "      <td>0.0</td>\n",
       "      <td>0.0</td>\n",
       "      <td>1.0</td>\n",
       "      <td>0.0</td>\n",
       "      <td>0.0</td>\n",
       "      <td>0.0</td>\n",
       "      <td>0.0</td>\n",
       "      <td>0.0</td>\n",
       "      <td>0.0</td>\n",
       "    </tr>\n",
       "    <tr>\n",
       "      <th>23143</th>\n",
       "      <td>0.0</td>\n",
       "      <td>1.0</td>\n",
       "      <td>1.0</td>\n",
       "      <td>0.0</td>\n",
       "      <td>0.0</td>\n",
       "      <td>0.0</td>\n",
       "      <td>0.0</td>\n",
       "      <td>0.0</td>\n",
       "      <td>1.0</td>\n",
       "      <td>0.0</td>\n",
       "      <td>0.0</td>\n",
       "      <td>0.0</td>\n",
       "      <td>0.0</td>\n",
       "      <td>1.0</td>\n",
       "      <td>0.0</td>\n",
       "      <td>0.0</td>\n",
       "      <td>0.0</td>\n",
       "      <td>0.0</td>\n",
       "      <td>0.0</td>\n",
       "      <td>0.0</td>\n",
       "    </tr>\n",
       "    <tr>\n",
       "      <th>23144</th>\n",
       "      <td>0.0</td>\n",
       "      <td>1.0</td>\n",
       "      <td>1.0</td>\n",
       "      <td>0.0</td>\n",
       "      <td>0.0</td>\n",
       "      <td>0.0</td>\n",
       "      <td>0.0</td>\n",
       "      <td>0.0</td>\n",
       "      <td>1.0</td>\n",
       "      <td>0.0</td>\n",
       "      <td>0.0</td>\n",
       "      <td>0.0</td>\n",
       "      <td>0.0</td>\n",
       "      <td>1.0</td>\n",
       "      <td>0.0</td>\n",
       "      <td>0.0</td>\n",
       "      <td>0.0</td>\n",
       "      <td>0.0</td>\n",
       "      <td>0.0</td>\n",
       "      <td>0.0</td>\n",
       "    </tr>\n",
       "  </tbody>\n",
       "</table>\n",
       "<p>23145 rows × 20 columns</p>\n",
       "</div>"
      ],
      "text/plain": [
       "       proto_tcp  proto_udp  service_dhcp  service_dns  service_http  \\\n",
       "0            1.0        0.0           0.0          1.0           0.0   \n",
       "1            1.0        0.0           0.0          1.0           0.0   \n",
       "2            1.0        0.0           0.0          1.0           0.0   \n",
       "3            1.0        0.0           0.0          0.0           1.0   \n",
       "4            1.0        0.0           0.0          1.0           0.0   \n",
       "...          ...        ...           ...          ...           ...   \n",
       "23140        1.0        0.0           0.0          0.0           0.0   \n",
       "23141        1.0        0.0           0.0          0.0           0.0   \n",
       "23142        0.0        1.0           1.0          0.0           0.0   \n",
       "23143        0.0        1.0           1.0          0.0           0.0   \n",
       "23144        0.0        1.0           1.0          0.0           0.0   \n",
       "\n",
       "       service_irc  conn_state_OTH  conn_state_RSTR  conn_state_S0  \\\n",
       "0              0.0             0.0              0.0            1.0   \n",
       "1              0.0             0.0              0.0            1.0   \n",
       "2              0.0             0.0              0.0            1.0   \n",
       "3              0.0             0.0              0.0            0.0   \n",
       "4              0.0             0.0              0.0            1.0   \n",
       "...            ...             ...              ...            ...   \n",
       "23140          1.0             0.0              0.0            0.0   \n",
       "23141          1.0             0.0              0.0            0.0   \n",
       "23142          0.0             0.0              0.0            1.0   \n",
       "23143          0.0             0.0              0.0            1.0   \n",
       "23144          0.0             0.0              0.0            1.0   \n",
       "\n",
       "       conn_state_S1  conn_state_S3  conn_state_SF  history_C  history_D  \\\n",
       "0                0.0            0.0            0.0        0.0        0.0   \n",
       "1                0.0            0.0            0.0        0.0        0.0   \n",
       "2                0.0            0.0            0.0        0.0        0.0   \n",
       "3                0.0            0.0            1.0        0.0        0.0   \n",
       "4                0.0            0.0            0.0        0.0        0.0   \n",
       "...              ...            ...            ...        ...        ...   \n",
       "23140            0.0            1.0            0.0        0.0        0.0   \n",
       "23141            0.0            1.0            0.0        0.0        0.0   \n",
       "23142            0.0            0.0            0.0        0.0        1.0   \n",
       "23143            0.0            0.0            0.0        0.0        1.0   \n",
       "23144            0.0            0.0            0.0        0.0        1.0   \n",
       "\n",
       "       history_Dd  history_Other  history_S  history_ShAdDaf  \\\n",
       "0             0.0            0.0        1.0              0.0   \n",
       "1             0.0            0.0        1.0              0.0   \n",
       "2             0.0            0.0        1.0              0.0   \n",
       "3             0.0            1.0        0.0              0.0   \n",
       "4             0.0            0.0        1.0              0.0   \n",
       "...           ...            ...        ...              ...   \n",
       "23140         0.0            0.0        0.0              1.0   \n",
       "23141         0.0            0.0        0.0              1.0   \n",
       "23142         0.0            0.0        0.0              0.0   \n",
       "23143         0.0            0.0        0.0              0.0   \n",
       "23144         0.0            0.0        0.0              0.0   \n",
       "\n",
       "       history_ShAdDaft  history_ShAdfDr  \n",
       "0                   0.0              0.0  \n",
       "1                   0.0              0.0  \n",
       "2                   0.0              0.0  \n",
       "3                   0.0              0.0  \n",
       "4                   0.0              0.0  \n",
       "...                 ...              ...  \n",
       "23140               0.0              0.0  \n",
       "23141               0.0              0.0  \n",
       "23142               0.0              0.0  \n",
       "23143               0.0              0.0  \n",
       "23144               0.0              0.0  \n",
       "\n",
       "[23145 rows x 20 columns]"
      ]
     },
     "execution_count": 98,
     "metadata": {},
     "output_type": "execute_result"
    }
   ],
   "source": [
    "# Initialize the encoder with its default parameters\n",
    "ohe = OneHotEncoder()\n",
    "\n",
    "# Fit the encoder to categorical features in the dataset\n",
    "encoded_features = ohe.fit_transform(data_df[categorical_features])\n",
    "\n",
    "# Create a dataframe of encoded features\n",
    "encoded_features_df = pd.DataFrame(encoded_features.toarray(), columns=ohe.get_feature_names_out())\n",
    "\n",
    "# Check the results of encoding\n",
    "encoded_features_df"
   ]
  },
  {
   "cell_type": "code",
   "execution_count": 99,
   "metadata": {},
   "outputs": [],
   "source": [
    "# Merge encoded features with the dataset and drop original columns\n",
    "data_df = pd.concat([data_df, encoded_features_df], axis=1).drop(categorical_features, axis=1)"
   ]
  },
  {
   "cell_type": "markdown",
   "metadata": {},
   "source": [
    "### 4. STORING PROCESSED DATASET"
   ]
  },
  {
   "cell_type": "markdown",
   "metadata": {},
   "source": [
    "#### Check the processed dataset"
   ]
  },
  {
   "cell_type": "code",
   "execution_count": 100,
   "metadata": {},
   "outputs": [
    {
     "data": {
      "text/html": [
       "<div>\n",
       "<style scoped>\n",
       "    .dataframe tbody tr th:only-of-type {\n",
       "        vertical-align: middle;\n",
       "    }\n",
       "\n",
       "    .dataframe tbody tr th {\n",
       "        vertical-align: top;\n",
       "    }\n",
       "\n",
       "    .dataframe thead th {\n",
       "        text-align: right;\n",
       "    }\n",
       "</style>\n",
       "<table border=\"1\" class=\"dataframe\">\n",
       "  <thead>\n",
       "    <tr style=\"text-align: right;\">\n",
       "      <th></th>\n",
       "      <th>id.orig_p</th>\n",
       "      <th>id.resp_p</th>\n",
       "      <th>duration</th>\n",
       "      <th>orig_bytes</th>\n",
       "      <th>resp_bytes</th>\n",
       "      <th>missed_bytes</th>\n",
       "      <th>orig_pkts</th>\n",
       "      <th>orig_ip_bytes</th>\n",
       "      <th>resp_pkts</th>\n",
       "      <th>resp_ip_bytes</th>\n",
       "      <th>label</th>\n",
       "      <th>proto_tcp</th>\n",
       "      <th>proto_udp</th>\n",
       "      <th>service_dhcp</th>\n",
       "      <th>service_dns</th>\n",
       "      <th>service_http</th>\n",
       "      <th>service_irc</th>\n",
       "      <th>conn_state_OTH</th>\n",
       "      <th>conn_state_RSTR</th>\n",
       "      <th>conn_state_S0</th>\n",
       "      <th>conn_state_S1</th>\n",
       "      <th>conn_state_S3</th>\n",
       "      <th>conn_state_SF</th>\n",
       "      <th>history_C</th>\n",
       "      <th>history_D</th>\n",
       "      <th>history_Dd</th>\n",
       "      <th>history_Other</th>\n",
       "      <th>history_S</th>\n",
       "      <th>history_ShAdDaf</th>\n",
       "      <th>history_ShAdDaft</th>\n",
       "      <th>history_ShAdfDr</th>\n",
       "    </tr>\n",
       "  </thead>\n",
       "  <tbody>\n",
       "    <tr>\n",
       "      <th>0</th>\n",
       "      <td>0.628686</td>\n",
       "      <td>0.001238</td>\n",
       "      <td>0.620050</td>\n",
       "      <td>0.000000e+00</td>\n",
       "      <td>0.000000</td>\n",
       "      <td>0.0</td>\n",
       "      <td>0.000163</td>\n",
       "      <td>2.366458e-06</td>\n",
       "      <td>0.00000</td>\n",
       "      <td>0.000000</td>\n",
       "      <td>0</td>\n",
       "      <td>1.0</td>\n",
       "      <td>0.0</td>\n",
       "      <td>0.0</td>\n",
       "      <td>1.0</td>\n",
       "      <td>0.0</td>\n",
       "      <td>0.0</td>\n",
       "      <td>0.0</td>\n",
       "      <td>0.0</td>\n",
       "      <td>1.0</td>\n",
       "      <td>0.0</td>\n",
       "      <td>0.0</td>\n",
       "      <td>0.0</td>\n",
       "      <td>0.0</td>\n",
       "      <td>0.0</td>\n",
       "      <td>0.0</td>\n",
       "      <td>0.0</td>\n",
       "      <td>1.0</td>\n",
       "      <td>0.0</td>\n",
       "      <td>0.0</td>\n",
       "      <td>0.0</td>\n",
       "    </tr>\n",
       "    <tr>\n",
       "      <th>1</th>\n",
       "      <td>0.628686</td>\n",
       "      <td>0.001238</td>\n",
       "      <td>0.620022</td>\n",
       "      <td>3.097425e-07</td>\n",
       "      <td>0.000047</td>\n",
       "      <td>0.0</td>\n",
       "      <td>0.000054</td>\n",
       "      <td>7.888192e-07</td>\n",
       "      <td>0.00000</td>\n",
       "      <td>0.000000</td>\n",
       "      <td>0</td>\n",
       "      <td>1.0</td>\n",
       "      <td>0.0</td>\n",
       "      <td>0.0</td>\n",
       "      <td>1.0</td>\n",
       "      <td>0.0</td>\n",
       "      <td>0.0</td>\n",
       "      <td>0.0</td>\n",
       "      <td>0.0</td>\n",
       "      <td>1.0</td>\n",
       "      <td>0.0</td>\n",
       "      <td>0.0</td>\n",
       "      <td>0.0</td>\n",
       "      <td>0.0</td>\n",
       "      <td>0.0</td>\n",
       "      <td>0.0</td>\n",
       "      <td>0.0</td>\n",
       "      <td>1.0</td>\n",
       "      <td>0.0</td>\n",
       "      <td>0.0</td>\n",
       "      <td>0.0</td>\n",
       "    </tr>\n",
       "    <tr>\n",
       "      <th>2</th>\n",
       "      <td>0.628686</td>\n",
       "      <td>0.001238</td>\n",
       "      <td>0.620022</td>\n",
       "      <td>3.097425e-07</td>\n",
       "      <td>0.000047</td>\n",
       "      <td>0.0</td>\n",
       "      <td>0.000054</td>\n",
       "      <td>7.888192e-07</td>\n",
       "      <td>0.00000</td>\n",
       "      <td>0.000000</td>\n",
       "      <td>0</td>\n",
       "      <td>1.0</td>\n",
       "      <td>0.0</td>\n",
       "      <td>0.0</td>\n",
       "      <td>1.0</td>\n",
       "      <td>0.0</td>\n",
       "      <td>0.0</td>\n",
       "      <td>0.0</td>\n",
       "      <td>0.0</td>\n",
       "      <td>1.0</td>\n",
       "      <td>0.0</td>\n",
       "      <td>0.0</td>\n",
       "      <td>0.0</td>\n",
       "      <td>0.0</td>\n",
       "      <td>0.0</td>\n",
       "      <td>0.0</td>\n",
       "      <td>0.0</td>\n",
       "      <td>1.0</td>\n",
       "      <td>0.0</td>\n",
       "      <td>0.0</td>\n",
       "      <td>0.0</td>\n",
       "    </tr>\n",
       "    <tr>\n",
       "      <th>3</th>\n",
       "      <td>0.628686</td>\n",
       "      <td>0.001238</td>\n",
       "      <td>0.221583</td>\n",
       "      <td>1.972292e-06</td>\n",
       "      <td>0.780758</td>\n",
       "      <td>0.5</td>\n",
       "      <td>0.005097</td>\n",
       "      <td>7.263710e-05</td>\n",
       "      <td>0.08972</td>\n",
       "      <td>0.823184</td>\n",
       "      <td>0</td>\n",
       "      <td>1.0</td>\n",
       "      <td>0.0</td>\n",
       "      <td>0.0</td>\n",
       "      <td>0.0</td>\n",
       "      <td>1.0</td>\n",
       "      <td>0.0</td>\n",
       "      <td>0.0</td>\n",
       "      <td>0.0</td>\n",
       "      <td>0.0</td>\n",
       "      <td>0.0</td>\n",
       "      <td>0.0</td>\n",
       "      <td>1.0</td>\n",
       "      <td>0.0</td>\n",
       "      <td>0.0</td>\n",
       "      <td>0.0</td>\n",
       "      <td>1.0</td>\n",
       "      <td>0.0</td>\n",
       "      <td>0.0</td>\n",
       "      <td>0.0</td>\n",
       "      <td>0.0</td>\n",
       "    </tr>\n",
       "    <tr>\n",
       "      <th>4</th>\n",
       "      <td>0.628717</td>\n",
       "      <td>0.001238</td>\n",
       "      <td>0.621946</td>\n",
       "      <td>0.000000e+00</td>\n",
       "      <td>0.000000</td>\n",
       "      <td>0.0</td>\n",
       "      <td>0.000163</td>\n",
       "      <td>2.366458e-06</td>\n",
       "      <td>0.00000</td>\n",
       "      <td>0.000000</td>\n",
       "      <td>0</td>\n",
       "      <td>1.0</td>\n",
       "      <td>0.0</td>\n",
       "      <td>0.0</td>\n",
       "      <td>1.0</td>\n",
       "      <td>0.0</td>\n",
       "      <td>0.0</td>\n",
       "      <td>0.0</td>\n",
       "      <td>0.0</td>\n",
       "      <td>1.0</td>\n",
       "      <td>0.0</td>\n",
       "      <td>0.0</td>\n",
       "      <td>0.0</td>\n",
       "      <td>0.0</td>\n",
       "      <td>0.0</td>\n",
       "      <td>0.0</td>\n",
       "      <td>0.0</td>\n",
       "      <td>1.0</td>\n",
       "      <td>0.0</td>\n",
       "      <td>0.0</td>\n",
       "      <td>0.0</td>\n",
       "    </tr>\n",
       "  </tbody>\n",
       "</table>\n",
       "</div>"
      ],
      "text/plain": [
       "   id.orig_p  id.resp_p  duration    orig_bytes  resp_bytes  missed_bytes  \\\n",
       "0   0.628686   0.001238  0.620050  0.000000e+00    0.000000           0.0   \n",
       "1   0.628686   0.001238  0.620022  3.097425e-07    0.000047           0.0   \n",
       "2   0.628686   0.001238  0.620022  3.097425e-07    0.000047           0.0   \n",
       "3   0.628686   0.001238  0.221583  1.972292e-06    0.780758           0.5   \n",
       "4   0.628717   0.001238  0.621946  0.000000e+00    0.000000           0.0   \n",
       "\n",
       "   orig_pkts  orig_ip_bytes  resp_pkts  resp_ip_bytes  label  proto_tcp  \\\n",
       "0   0.000163   2.366458e-06    0.00000       0.000000      0        1.0   \n",
       "1   0.000054   7.888192e-07    0.00000       0.000000      0        1.0   \n",
       "2   0.000054   7.888192e-07    0.00000       0.000000      0        1.0   \n",
       "3   0.005097   7.263710e-05    0.08972       0.823184      0        1.0   \n",
       "4   0.000163   2.366458e-06    0.00000       0.000000      0        1.0   \n",
       "\n",
       "   proto_udp  service_dhcp  service_dns  service_http  service_irc  \\\n",
       "0        0.0           0.0          1.0           0.0          0.0   \n",
       "1        0.0           0.0          1.0           0.0          0.0   \n",
       "2        0.0           0.0          1.0           0.0          0.0   \n",
       "3        0.0           0.0          0.0           1.0          0.0   \n",
       "4        0.0           0.0          1.0           0.0          0.0   \n",
       "\n",
       "   conn_state_OTH  conn_state_RSTR  conn_state_S0  conn_state_S1  \\\n",
       "0             0.0              0.0            1.0            0.0   \n",
       "1             0.0              0.0            1.0            0.0   \n",
       "2             0.0              0.0            1.0            0.0   \n",
       "3             0.0              0.0            0.0            0.0   \n",
       "4             0.0              0.0            1.0            0.0   \n",
       "\n",
       "   conn_state_S3  conn_state_SF  history_C  history_D  history_Dd  \\\n",
       "0            0.0            0.0        0.0        0.0         0.0   \n",
       "1            0.0            0.0        0.0        0.0         0.0   \n",
       "2            0.0            0.0        0.0        0.0         0.0   \n",
       "3            0.0            1.0        0.0        0.0         0.0   \n",
       "4            0.0            0.0        0.0        0.0         0.0   \n",
       "\n",
       "   history_Other  history_S  history_ShAdDaf  history_ShAdDaft  \\\n",
       "0            0.0        1.0              0.0               0.0   \n",
       "1            0.0        1.0              0.0               0.0   \n",
       "2            0.0        1.0              0.0               0.0   \n",
       "3            1.0        0.0              0.0               0.0   \n",
       "4            0.0        1.0              0.0               0.0   \n",
       "\n",
       "   history_ShAdfDr  \n",
       "0              0.0  \n",
       "1              0.0  \n",
       "2              0.0  \n",
       "3              0.0  \n",
       "4              0.0  "
      ]
     },
     "execution_count": 100,
     "metadata": {},
     "output_type": "execute_result"
    }
   ],
   "source": [
    "# Check the final version of the dataset\n",
    "data_df.head()"
   ]
  },
  {
   "cell_type": "code",
   "execution_count": 101,
   "metadata": {},
   "outputs": [
    {
     "name": "stdout",
     "output_type": "stream",
     "text": [
      "<class 'pandas.core.frame.DataFrame'>\n",
      "Int64Index: 23145 entries, 0 to 23144\n",
      "Data columns (total 31 columns):\n",
      " #   Column            Non-Null Count  Dtype  \n",
      "---  ------            --------------  -----  \n",
      " 0   id.orig_p         23145 non-null  float64\n",
      " 1   id.resp_p         23145 non-null  float64\n",
      " 2   duration          23145 non-null  float64\n",
      " 3   orig_bytes        23145 non-null  float64\n",
      " 4   resp_bytes        23145 non-null  float64\n",
      " 5   missed_bytes      23145 non-null  float64\n",
      " 6   orig_pkts         23145 non-null  float64\n",
      " 7   orig_ip_bytes     23145 non-null  float64\n",
      " 8   resp_pkts         23145 non-null  float64\n",
      " 9   resp_ip_bytes     23145 non-null  float64\n",
      " 10  label             23145 non-null  int32  \n",
      " 11  proto_tcp         23145 non-null  float64\n",
      " 12  proto_udp         23145 non-null  float64\n",
      " 13  service_dhcp      23145 non-null  float64\n",
      " 14  service_dns       23145 non-null  float64\n",
      " 15  service_http      23145 non-null  float64\n",
      " 16  service_irc       23145 non-null  float64\n",
      " 17  conn_state_OTH    23145 non-null  float64\n",
      " 18  conn_state_RSTR   23145 non-null  float64\n",
      " 19  conn_state_S0     23145 non-null  float64\n",
      " 20  conn_state_S1     23145 non-null  float64\n",
      " 21  conn_state_S3     23145 non-null  float64\n",
      " 22  conn_state_SF     23145 non-null  float64\n",
      " 23  history_C         23145 non-null  float64\n",
      " 24  history_D         23145 non-null  float64\n",
      " 25  history_Dd        23145 non-null  float64\n",
      " 26  history_Other     23145 non-null  float64\n",
      " 27  history_S         23145 non-null  float64\n",
      " 28  history_ShAdDaf   23145 non-null  float64\n",
      " 29  history_ShAdDaft  23145 non-null  float64\n",
      " 30  history_ShAdfDr   23145 non-null  float64\n",
      "dtypes: float64(30), int32(1)\n",
      "memory usage: 5.6 MB\n"
     ]
    }
   ],
   "source": [
    "# Check not null values and attribute types\n",
    "data_df.info()"
   ]
  },
  {
   "cell_type": "markdown",
   "metadata": {},
   "source": [
    "#### Store processed dataset to a csv file"
   ]
  },
  {
   "cell_type": "code",
   "execution_count": 102,
   "metadata": {},
   "outputs": [],
   "source": [
    "# Set file location and name\n",
    "data_file_location = \"..\\\\data\\\\processed\\\\\"\n",
    "data_file_name = \"conn.log.labeled_processed\"\n",
    "data_file_ext = \".csv\"\n",
    "\n",
    "# Store processed dataset to a csv file\n",
    "data_df.to_csv(data_file_location + data_file_name + data_file_ext)"
   ]
  }
 ],
 "metadata": {
  "kernelspec": {
   "display_name": "base",
   "language": "python",
   "name": "python3"
  },
  "language_info": {
   "codemirror_mode": {
    "name": "ipython",
    "version": 3
   },
   "file_extension": ".py",
   "mimetype": "text/x-python",
   "name": "python",
   "nbconvert_exporter": "python",
   "pygments_lexer": "ipython3",
   "version": "3.11.4"
  },
  "orig_nbformat": 4
 },
 "nbformat": 4,
 "nbformat_minor": 2
}
