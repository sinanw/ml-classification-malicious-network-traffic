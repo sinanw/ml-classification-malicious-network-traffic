{
 "cells": [
  {
   "cell_type": "markdown",
   "metadata": {},
   "source": [
    "# Supervised Machine Learning - Data Classification Demo"
   ]
  },
  {
   "cell_type": "markdown",
   "metadata": {},
   "source": [
    "> This project aims to analyze and classify a real network traffic data set to detect malicious/benign traffic records. It compares the performance of various Machine Learning algorithms and tunes the best-performing model to maintain the highest accuracy and lowest False Negative metrics.\n",
    "\n",
    "> The dataset used in this demo is [CTU-IoT-Malware-Capture-34-1](https://mcfp.felk.cvut.cz/publicDatasets/IoT-23-Dataset/IndividualScenarios/CTU-IoT-Malware-Capture-34-1/bro/), it is part of [Aposemat IoT-23 dataset](https://www.stratosphereips.org/datasets-iot23) (A labeled dataset with malicious and benign IoT network traffic).\n",
    ">"
   ]
  },
  {
   "cell_type": "markdown",
   "metadata": {},
   "source": [
    "# 1. Initialization"
   ]
  },
  {
   "cell_type": "code",
   "execution_count": 63,
   "metadata": {},
   "outputs": [],
   "source": [
    "#importing required libraries and modules\n",
    "import pandas as pd\n",
    "\n",
    "#set display options\n",
    "pd.set_option('display.max_columns', None)"
   ]
  },
  {
   "cell_type": "markdown",
   "metadata": {},
   "source": [
    "## 2. Data Acquisition"
   ]
  },
  {
   "cell_type": "markdown",
   "metadata": {},
   "source": [
    "### Reading dataset file into DataFrame"
   ]
  },
  {
   "cell_type": "code",
   "execution_count": 64,
   "metadata": {},
   "outputs": [],
   "source": [
    "#initialize required variables to read from the data file\n",
    "data_file_location = \"data\\\\raw\\\\\"\n",
    "data_file_name = \"conn.log.labeled\"\n",
    "\n",
    "#column names are included in the file in a commented line, so we need to read the corresponding line separately and remove the first description word.\n",
    "data_columns = pd.read_csv(data_file_location + data_file_name, sep='\\t', skiprows=6, nrows=1, header=None).iloc[0][1:]\n",
    "\n",
    "#read the actual dataset\n",
    "data_df = pd.read_csv(data_file_location + data_file_name, sep='\\t', comment=\"#\", header=None)\n",
    "\n",
    "#set column names\n",
    "data_df.columns = data_columns"
   ]
  },
  {
   "cell_type": "markdown",
   "metadata": {},
   "source": [
    "### Exploring dataset summary and statistics"
   ]
  },
  {
   "cell_type": "code",
   "execution_count": 65,
   "metadata": {},
   "outputs": [
    {
     "data": {
      "text/plain": [
       "(23145, 21)"
      ]
     },
     "execution_count": 65,
     "metadata": {},
     "output_type": "execute_result"
    }
   ],
   "source": [
    "#check dataset shape\n",
    "data_df.shape"
   ]
  },
  {
   "cell_type": "code",
   "execution_count": 66,
   "metadata": {},
   "outputs": [
    {
     "data": {
      "text/html": [
       "<div>\n",
       "<style scoped>\n",
       "    .dataframe tbody tr th:only-of-type {\n",
       "        vertical-align: middle;\n",
       "    }\n",
       "\n",
       "    .dataframe tbody tr th {\n",
       "        vertical-align: top;\n",
       "    }\n",
       "\n",
       "    .dataframe thead th {\n",
       "        text-align: right;\n",
       "    }\n",
       "</style>\n",
       "<table border=\"1\" class=\"dataframe\">\n",
       "  <thead>\n",
       "    <tr style=\"text-align: right;\">\n",
       "      <th></th>\n",
       "      <th>ts</th>\n",
       "      <th>uid</th>\n",
       "      <th>id.orig_h</th>\n",
       "      <th>id.orig_p</th>\n",
       "      <th>id.resp_h</th>\n",
       "      <th>id.resp_p</th>\n",
       "      <th>proto</th>\n",
       "      <th>service</th>\n",
       "      <th>duration</th>\n",
       "      <th>orig_bytes</th>\n",
       "      <th>resp_bytes</th>\n",
       "      <th>conn_state</th>\n",
       "      <th>local_orig</th>\n",
       "      <th>local_resp</th>\n",
       "      <th>missed_bytes</th>\n",
       "      <th>history</th>\n",
       "      <th>orig_pkts</th>\n",
       "      <th>orig_ip_bytes</th>\n",
       "      <th>resp_pkts</th>\n",
       "      <th>resp_ip_bytes</th>\n",
       "      <th>tunnel_parents   label   detailed-label</th>\n",
       "    </tr>\n",
       "  </thead>\n",
       "  <tbody>\n",
       "    <tr>\n",
       "      <th>0</th>\n",
       "      <td>1.545404e+09</td>\n",
       "      <td>CrDn63WjJEmrWGjqf</td>\n",
       "      <td>192.168.1.195</td>\n",
       "      <td>41040</td>\n",
       "      <td>185.244.25.235</td>\n",
       "      <td>80</td>\n",
       "      <td>tcp</td>\n",
       "      <td>-</td>\n",
       "      <td>3.139211</td>\n",
       "      <td>0</td>\n",
       "      <td>0</td>\n",
       "      <td>S0</td>\n",
       "      <td>-</td>\n",
       "      <td>-</td>\n",
       "      <td>0</td>\n",
       "      <td>S</td>\n",
       "      <td>3</td>\n",
       "      <td>180</td>\n",
       "      <td>0</td>\n",
       "      <td>0</td>\n",
       "      <td>-   Benign   -</td>\n",
       "    </tr>\n",
       "    <tr>\n",
       "      <th>1</th>\n",
       "      <td>1.545404e+09</td>\n",
       "      <td>CY9lJW3gh1Eje4usP6</td>\n",
       "      <td>192.168.1.195</td>\n",
       "      <td>41040</td>\n",
       "      <td>185.244.25.235</td>\n",
       "      <td>80</td>\n",
       "      <td>tcp</td>\n",
       "      <td>-</td>\n",
       "      <td>-</td>\n",
       "      <td>-</td>\n",
       "      <td>-</td>\n",
       "      <td>S0</td>\n",
       "      <td>-</td>\n",
       "      <td>-</td>\n",
       "      <td>0</td>\n",
       "      <td>S</td>\n",
       "      <td>1</td>\n",
       "      <td>60</td>\n",
       "      <td>0</td>\n",
       "      <td>0</td>\n",
       "      <td>-   Benign   -</td>\n",
       "    </tr>\n",
       "    <tr>\n",
       "      <th>2</th>\n",
       "      <td>1.545404e+09</td>\n",
       "      <td>CcFXLynukEDnUlvgl</td>\n",
       "      <td>192.168.1.195</td>\n",
       "      <td>41040</td>\n",
       "      <td>185.244.25.235</td>\n",
       "      <td>80</td>\n",
       "      <td>tcp</td>\n",
       "      <td>-</td>\n",
       "      <td>-</td>\n",
       "      <td>-</td>\n",
       "      <td>-</td>\n",
       "      <td>S0</td>\n",
       "      <td>-</td>\n",
       "      <td>-</td>\n",
       "      <td>0</td>\n",
       "      <td>S</td>\n",
       "      <td>1</td>\n",
       "      <td>60</td>\n",
       "      <td>0</td>\n",
       "      <td>0</td>\n",
       "      <td>-   Benign   -</td>\n",
       "    </tr>\n",
       "    <tr>\n",
       "      <th>3</th>\n",
       "      <td>1.545404e+09</td>\n",
       "      <td>CDrkrSobGYxHhYfth</td>\n",
       "      <td>192.168.1.195</td>\n",
       "      <td>41040</td>\n",
       "      <td>185.244.25.235</td>\n",
       "      <td>80</td>\n",
       "      <td>tcp</td>\n",
       "      <td>http</td>\n",
       "      <td>1.477656</td>\n",
       "      <td>149</td>\n",
       "      <td>128252</td>\n",
       "      <td>SF</td>\n",
       "      <td>-</td>\n",
       "      <td>-</td>\n",
       "      <td>2896</td>\n",
       "      <td>ShADadttcfF</td>\n",
       "      <td>94</td>\n",
       "      <td>5525</td>\n",
       "      <td>96</td>\n",
       "      <td>139044</td>\n",
       "      <td>-   Benign   -</td>\n",
       "    </tr>\n",
       "    <tr>\n",
       "      <th>4</th>\n",
       "      <td>1.545404e+09</td>\n",
       "      <td>CTWZQf2oJSvq6zmPAc</td>\n",
       "      <td>192.168.1.195</td>\n",
       "      <td>41042</td>\n",
       "      <td>185.244.25.235</td>\n",
       "      <td>80</td>\n",
       "      <td>tcp</td>\n",
       "      <td>-</td>\n",
       "      <td>3.147116</td>\n",
       "      <td>0</td>\n",
       "      <td>0</td>\n",
       "      <td>S0</td>\n",
       "      <td>-</td>\n",
       "      <td>-</td>\n",
       "      <td>0</td>\n",
       "      <td>S</td>\n",
       "      <td>3</td>\n",
       "      <td>180</td>\n",
       "      <td>0</td>\n",
       "      <td>0</td>\n",
       "      <td>-   Benign   -</td>\n",
       "    </tr>\n",
       "  </tbody>\n",
       "</table>\n",
       "</div>"
      ],
      "text/plain": [
       "0            ts                 uid      id.orig_h  id.orig_p       id.resp_h  \\\n",
       "0  1.545404e+09   CrDn63WjJEmrWGjqf  192.168.1.195      41040  185.244.25.235   \n",
       "1  1.545404e+09  CY9lJW3gh1Eje4usP6  192.168.1.195      41040  185.244.25.235   \n",
       "2  1.545404e+09   CcFXLynukEDnUlvgl  192.168.1.195      41040  185.244.25.235   \n",
       "3  1.545404e+09   CDrkrSobGYxHhYfth  192.168.1.195      41040  185.244.25.235   \n",
       "4  1.545404e+09  CTWZQf2oJSvq6zmPAc  192.168.1.195      41042  185.244.25.235   \n",
       "\n",
       "0  id.resp_p proto service  duration orig_bytes resp_bytes conn_state  \\\n",
       "0         80   tcp       -  3.139211          0          0         S0   \n",
       "1         80   tcp       -         -          -          -         S0   \n",
       "2         80   tcp       -         -          -          -         S0   \n",
       "3         80   tcp    http  1.477656        149     128252         SF   \n",
       "4         80   tcp       -  3.147116          0          0         S0   \n",
       "\n",
       "0 local_orig local_resp  missed_bytes      history  orig_pkts  orig_ip_bytes  \\\n",
       "0          -          -             0            S          3            180   \n",
       "1          -          -             0            S          1             60   \n",
       "2          -          -             0            S          1             60   \n",
       "3          -          -          2896  ShADadttcfF         94           5525   \n",
       "4          -          -             0            S          3            180   \n",
       "\n",
       "0  resp_pkts  resp_ip_bytes tunnel_parents   label   detailed-label  \n",
       "0          0              0                          -   Benign   -  \n",
       "1          0              0                          -   Benign   -  \n",
       "2          0              0                          -   Benign   -  \n",
       "3         96         139044                          -   Benign   -  \n",
       "4          0              0                          -   Benign   -  "
      ]
     },
     "execution_count": 66,
     "metadata": {},
     "output_type": "execute_result"
    }
   ],
   "source": [
    "#check dataset head\n",
    "data_df.head()"
   ]
  },
  {
   "cell_type": "code",
   "execution_count": 67,
   "metadata": {},
   "outputs": [
    {
     "name": "stdout",
     "output_type": "stream",
     "text": [
      "<class 'pandas.core.frame.DataFrame'>\n",
      "RangeIndex: 23145 entries, 0 to 23144\n",
      "Data columns (total 21 columns):\n",
      " #   Column                                   Non-Null Count  Dtype  \n",
      "---  ------                                   --------------  -----  \n",
      " 0   ts                                       23145 non-null  float64\n",
      " 1   uid                                      23145 non-null  object \n",
      " 2   id.orig_h                                23145 non-null  object \n",
      " 3   id.orig_p                                23145 non-null  int64  \n",
      " 4   id.resp_h                                23145 non-null  object \n",
      " 5   id.resp_p                                23145 non-null  int64  \n",
      " 6   proto                                    23145 non-null  object \n",
      " 7   service                                  23145 non-null  object \n",
      " 8   duration                                 23145 non-null  object \n",
      " 9   orig_bytes                               23145 non-null  object \n",
      " 10  resp_bytes                               23145 non-null  object \n",
      " 11  conn_state                               23145 non-null  object \n",
      " 12  local_orig                               23145 non-null  object \n",
      " 13  local_resp                               23145 non-null  object \n",
      " 14  missed_bytes                             23145 non-null  int64  \n",
      " 15  history                                  23145 non-null  object \n",
      " 16  orig_pkts                                23145 non-null  int64  \n",
      " 17  orig_ip_bytes                            23145 non-null  int64  \n",
      " 18  resp_pkts                                23145 non-null  int64  \n",
      " 19  resp_ip_bytes                            23145 non-null  int64  \n",
      " 20  tunnel_parents   label   detailed-label  23145 non-null  object \n",
      "dtypes: float64(1), int64(7), object(13)\n",
      "memory usage: 3.7+ MB\n"
     ]
    }
   ],
   "source": [
    "#check dataset summary\n",
    "data_df.info()"
   ]
  },
  {
   "cell_type": "markdown",
   "metadata": {},
   "source": [
    "# 3. Data Cleaning"
   ]
  },
  {
   "cell_type": "code",
   "execution_count": 68,
   "metadata": {},
   "outputs": [],
   "source": [
    "#fixing the last column due to unmatched separators in the original file\n",
    "#split the last combined column into three ones\n",
    "tunnel_parents_column = data_df.iloc[:,-1].apply(lambda x: x.split()[0])\n",
    "label_column = data_df.iloc[:,-1].apply(lambda x: x.split()[1])\n",
    "detailed_label_column = data_df.iloc[:,-1].apply(lambda x: x.split()[2])\n",
    "\n",
    "#drop the combined column\n",
    "data_df.drop([\"tunnel_parents   label   detailed-label\"], axis=1, inplace=True)\n",
    "\n",
    "#add new individual columns to the dataset\n",
    "data_df[\"tunnel_parents\"] = tunnel_parents_column\n",
    "data_df[\"label\"] = label_column\n",
    "data_df[\"detailed_label\"] = detailed_label_column"
   ]
  },
  {
   "cell_type": "code",
   "execution_count": 61,
   "metadata": {},
   "outputs": [],
   "source": []
  }
 ],
 "metadata": {
  "kernelspec": {
   "display_name": "base",
   "language": "python",
   "name": "python3"
  },
  "language_info": {
   "codemirror_mode": {
    "name": "ipython",
    "version": 3
   },
   "file_extension": ".py",
   "mimetype": "text/x-python",
   "name": "python",
   "nbconvert_exporter": "python",
   "pygments_lexer": "ipython3",
   "version": "3.11.4"
  },
  "orig_nbformat": 4
 },
 "nbformat": 4,
 "nbformat_minor": 2
}
