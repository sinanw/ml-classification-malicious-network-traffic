{
 "cells": [
  {
   "cell_type": "markdown",
   "metadata": {},
   "source": [
    "# Supervised Machine Learning - Data Classification Demo"
   ]
  },
  {
   "cell_type": "markdown",
   "metadata": {},
   "source": [
    "This project aims to analyze and classify a real network traffic data set to detect malicious/benign traffic records. It compares the performance of various Machine Learning algorithms and tunes the best-performing model to maintain the highest accuracy and lowest False Negative metrics.\n",
    "\n",
    "The dataset used in this demo is [CTU-IoT-Malware-Capture-34-1](https://mcfp.felk.cvut.cz/publicDatasets/IoT-23-Dataset/IndividualScenarios/CTU-IoT-Malware-Capture-34-1/bro/), it is part of [Aposemat IoT-23 dataset](https://www.stratosphereips.org/datasets-iot23) (A labeled dataset with malicious and benign IoT network traffic)."
   ]
  },
  {
   "cell_type": "markdown",
   "metadata": {},
   "source": [
    "# 1. Initialization"
   ]
  },
  {
   "cell_type": "code",
   "execution_count": 179,
   "metadata": {},
   "outputs": [],
   "source": [
    "#importing required libraries and modules\n",
    "import pandas as pd\n",
    "import numpy as np\n",
    "import seaborn as sns\n",
    "from sklearn.model_selection import train_test_split\n",
    "from sklearn.neighbors import KNeighborsClassifier\n",
    "from sklearn.metrics import accuracy_score, classification_report\n",
    "import ipaddress\n",
    "from sklearn.impute import KNNImputer\n",
    "\n",
    "#set display options\n",
    "pd.set_option('display.max_columns', None)"
   ]
  },
  {
   "cell_type": "markdown",
   "metadata": {},
   "source": [
    "## 2. Load Dataset"
   ]
  },
  {
   "cell_type": "markdown",
   "metadata": {},
   "source": [
    "### Reading dataset file into DataFrame"
   ]
  },
  {
   "cell_type": "code",
   "execution_count": 180,
   "metadata": {},
   "outputs": [],
   "source": [
    "#initialize required variables to read from the data file\n",
    "data_file_location = \"data\\\\raw\\\\\"\n",
    "data_file_name = \"conn.log.labeled\"\n",
    "\n",
    "#column names are included in the file in a commented line, so we need to read the corresponding line separately and remove the first description word.\n",
    "data_columns = pd.read_csv(data_file_location + data_file_name, sep='\\t', skiprows=6, nrows=1, header=None).iloc[0][1:]\n",
    "\n",
    "#read the actual dataset\n",
    "data_df = pd.read_csv(data_file_location + data_file_name, sep='\\t', comment=\"#\", header=None)\n",
    "\n",
    "#set column names\n",
    "data_df.columns = data_columns"
   ]
  },
  {
   "cell_type": "markdown",
   "metadata": {},
   "source": [
    "### Exploring dataset summary and statistics"
   ]
  },
  {
   "cell_type": "code",
   "execution_count": 181,
   "metadata": {},
   "outputs": [
    {
     "data": {
      "text/plain": [
       "(23145, 21)"
      ]
     },
     "execution_count": 181,
     "metadata": {},
     "output_type": "execute_result"
    }
   ],
   "source": [
    "#check dataset shape\n",
    "data_df.shape"
   ]
  },
  {
   "cell_type": "code",
   "execution_count": 182,
   "metadata": {},
   "outputs": [
    {
     "data": {
      "text/html": [
       "<div>\n",
       "<style scoped>\n",
       "    .dataframe tbody tr th:only-of-type {\n",
       "        vertical-align: middle;\n",
       "    }\n",
       "\n",
       "    .dataframe tbody tr th {\n",
       "        vertical-align: top;\n",
       "    }\n",
       "\n",
       "    .dataframe thead th {\n",
       "        text-align: right;\n",
       "    }\n",
       "</style>\n",
       "<table border=\"1\" class=\"dataframe\">\n",
       "  <thead>\n",
       "    <tr style=\"text-align: right;\">\n",
       "      <th></th>\n",
       "      <th>ts</th>\n",
       "      <th>uid</th>\n",
       "      <th>id.orig_h</th>\n",
       "      <th>id.orig_p</th>\n",
       "      <th>id.resp_h</th>\n",
       "      <th>id.resp_p</th>\n",
       "      <th>proto</th>\n",
       "      <th>service</th>\n",
       "      <th>duration</th>\n",
       "      <th>orig_bytes</th>\n",
       "      <th>resp_bytes</th>\n",
       "      <th>conn_state</th>\n",
       "      <th>local_orig</th>\n",
       "      <th>local_resp</th>\n",
       "      <th>missed_bytes</th>\n",
       "      <th>history</th>\n",
       "      <th>orig_pkts</th>\n",
       "      <th>orig_ip_bytes</th>\n",
       "      <th>resp_pkts</th>\n",
       "      <th>resp_ip_bytes</th>\n",
       "      <th>tunnel_parents   label   detailed-label</th>\n",
       "    </tr>\n",
       "  </thead>\n",
       "  <tbody>\n",
       "    <tr>\n",
       "      <th>0</th>\n",
       "      <td>1.545404e+09</td>\n",
       "      <td>CrDn63WjJEmrWGjqf</td>\n",
       "      <td>192.168.1.195</td>\n",
       "      <td>41040</td>\n",
       "      <td>185.244.25.235</td>\n",
       "      <td>80</td>\n",
       "      <td>tcp</td>\n",
       "      <td>-</td>\n",
       "      <td>3.139211</td>\n",
       "      <td>0</td>\n",
       "      <td>0</td>\n",
       "      <td>S0</td>\n",
       "      <td>-</td>\n",
       "      <td>-</td>\n",
       "      <td>0</td>\n",
       "      <td>S</td>\n",
       "      <td>3</td>\n",
       "      <td>180</td>\n",
       "      <td>0</td>\n",
       "      <td>0</td>\n",
       "      <td>-   Benign   -</td>\n",
       "    </tr>\n",
       "    <tr>\n",
       "      <th>1</th>\n",
       "      <td>1.545404e+09</td>\n",
       "      <td>CY9lJW3gh1Eje4usP6</td>\n",
       "      <td>192.168.1.195</td>\n",
       "      <td>41040</td>\n",
       "      <td>185.244.25.235</td>\n",
       "      <td>80</td>\n",
       "      <td>tcp</td>\n",
       "      <td>-</td>\n",
       "      <td>-</td>\n",
       "      <td>-</td>\n",
       "      <td>-</td>\n",
       "      <td>S0</td>\n",
       "      <td>-</td>\n",
       "      <td>-</td>\n",
       "      <td>0</td>\n",
       "      <td>S</td>\n",
       "      <td>1</td>\n",
       "      <td>60</td>\n",
       "      <td>0</td>\n",
       "      <td>0</td>\n",
       "      <td>-   Benign   -</td>\n",
       "    </tr>\n",
       "    <tr>\n",
       "      <th>2</th>\n",
       "      <td>1.545404e+09</td>\n",
       "      <td>CcFXLynukEDnUlvgl</td>\n",
       "      <td>192.168.1.195</td>\n",
       "      <td>41040</td>\n",
       "      <td>185.244.25.235</td>\n",
       "      <td>80</td>\n",
       "      <td>tcp</td>\n",
       "      <td>-</td>\n",
       "      <td>-</td>\n",
       "      <td>-</td>\n",
       "      <td>-</td>\n",
       "      <td>S0</td>\n",
       "      <td>-</td>\n",
       "      <td>-</td>\n",
       "      <td>0</td>\n",
       "      <td>S</td>\n",
       "      <td>1</td>\n",
       "      <td>60</td>\n",
       "      <td>0</td>\n",
       "      <td>0</td>\n",
       "      <td>-   Benign   -</td>\n",
       "    </tr>\n",
       "    <tr>\n",
       "      <th>3</th>\n",
       "      <td>1.545404e+09</td>\n",
       "      <td>CDrkrSobGYxHhYfth</td>\n",
       "      <td>192.168.1.195</td>\n",
       "      <td>41040</td>\n",
       "      <td>185.244.25.235</td>\n",
       "      <td>80</td>\n",
       "      <td>tcp</td>\n",
       "      <td>http</td>\n",
       "      <td>1.477656</td>\n",
       "      <td>149</td>\n",
       "      <td>128252</td>\n",
       "      <td>SF</td>\n",
       "      <td>-</td>\n",
       "      <td>-</td>\n",
       "      <td>2896</td>\n",
       "      <td>ShADadttcfF</td>\n",
       "      <td>94</td>\n",
       "      <td>5525</td>\n",
       "      <td>96</td>\n",
       "      <td>139044</td>\n",
       "      <td>-   Benign   -</td>\n",
       "    </tr>\n",
       "    <tr>\n",
       "      <th>4</th>\n",
       "      <td>1.545404e+09</td>\n",
       "      <td>CTWZQf2oJSvq6zmPAc</td>\n",
       "      <td>192.168.1.195</td>\n",
       "      <td>41042</td>\n",
       "      <td>185.244.25.235</td>\n",
       "      <td>80</td>\n",
       "      <td>tcp</td>\n",
       "      <td>-</td>\n",
       "      <td>3.147116</td>\n",
       "      <td>0</td>\n",
       "      <td>0</td>\n",
       "      <td>S0</td>\n",
       "      <td>-</td>\n",
       "      <td>-</td>\n",
       "      <td>0</td>\n",
       "      <td>S</td>\n",
       "      <td>3</td>\n",
       "      <td>180</td>\n",
       "      <td>0</td>\n",
       "      <td>0</td>\n",
       "      <td>-   Benign   -</td>\n",
       "    </tr>\n",
       "  </tbody>\n",
       "</table>\n",
       "</div>"
      ],
      "text/plain": [
       "0            ts                 uid      id.orig_h  id.orig_p       id.resp_h  \\\n",
       "0  1.545404e+09   CrDn63WjJEmrWGjqf  192.168.1.195      41040  185.244.25.235   \n",
       "1  1.545404e+09  CY9lJW3gh1Eje4usP6  192.168.1.195      41040  185.244.25.235   \n",
       "2  1.545404e+09   CcFXLynukEDnUlvgl  192.168.1.195      41040  185.244.25.235   \n",
       "3  1.545404e+09   CDrkrSobGYxHhYfth  192.168.1.195      41040  185.244.25.235   \n",
       "4  1.545404e+09  CTWZQf2oJSvq6zmPAc  192.168.1.195      41042  185.244.25.235   \n",
       "\n",
       "0  id.resp_p proto service  duration orig_bytes resp_bytes conn_state  \\\n",
       "0         80   tcp       -  3.139211          0          0         S0   \n",
       "1         80   tcp       -         -          -          -         S0   \n",
       "2         80   tcp       -         -          -          -         S0   \n",
       "3         80   tcp    http  1.477656        149     128252         SF   \n",
       "4         80   tcp       -  3.147116          0          0         S0   \n",
       "\n",
       "0 local_orig local_resp  missed_bytes      history  orig_pkts  orig_ip_bytes  \\\n",
       "0          -          -             0            S          3            180   \n",
       "1          -          -             0            S          1             60   \n",
       "2          -          -             0            S          1             60   \n",
       "3          -          -          2896  ShADadttcfF         94           5525   \n",
       "4          -          -             0            S          3            180   \n",
       "\n",
       "0  resp_pkts  resp_ip_bytes tunnel_parents   label   detailed-label  \n",
       "0          0              0                          -   Benign   -  \n",
       "1          0              0                          -   Benign   -  \n",
       "2          0              0                          -   Benign   -  \n",
       "3         96         139044                          -   Benign   -  \n",
       "4          0              0                          -   Benign   -  "
      ]
     },
     "execution_count": 182,
     "metadata": {},
     "output_type": "execute_result"
    }
   ],
   "source": [
    "#check dataset head\n",
    "data_df.head()"
   ]
  },
  {
   "cell_type": "markdown",
   "metadata": {},
   "source": [
    "- We notice here that the last column contains several values, this is due to unmatched delimiter in the original dataset file. We will fix it later on during the data cleaning phase.\n",
    "- We also notice some fields with '-', which means the field is unset according to the dataset documentation. This will be also handled when fixing missing values."
   ]
  },
  {
   "cell_type": "code",
   "execution_count": 183,
   "metadata": {},
   "outputs": [
    {
     "name": "stdout",
     "output_type": "stream",
     "text": [
      "<class 'pandas.core.frame.DataFrame'>\n",
      "RangeIndex: 23145 entries, 0 to 23144\n",
      "Data columns (total 21 columns):\n",
      " #   Column                                   Non-Null Count  Dtype  \n",
      "---  ------                                   --------------  -----  \n",
      " 0   ts                                       23145 non-null  float64\n",
      " 1   uid                                      23145 non-null  object \n",
      " 2   id.orig_h                                23145 non-null  object \n",
      " 3   id.orig_p                                23145 non-null  int64  \n",
      " 4   id.resp_h                                23145 non-null  object \n",
      " 5   id.resp_p                                23145 non-null  int64  \n",
      " 6   proto                                    23145 non-null  object \n",
      " 7   service                                  23145 non-null  object \n",
      " 8   duration                                 23145 non-null  object \n",
      " 9   orig_bytes                               23145 non-null  object \n",
      " 10  resp_bytes                               23145 non-null  object \n",
      " 11  conn_state                               23145 non-null  object \n",
      " 12  local_orig                               23145 non-null  object \n",
      " 13  local_resp                               23145 non-null  object \n",
      " 14  missed_bytes                             23145 non-null  int64  \n",
      " 15  history                                  23145 non-null  object \n",
      " 16  orig_pkts                                23145 non-null  int64  \n",
      " 17  orig_ip_bytes                            23145 non-null  int64  \n",
      " 18  resp_pkts                                23145 non-null  int64  \n",
      " 19  resp_ip_bytes                            23145 non-null  int64  \n",
      " 20  tunnel_parents   label   detailed-label  23145 non-null  object \n",
      "dtypes: float64(1), int64(7), object(13)\n",
      "memory usage: 3.7+ MB\n"
     ]
    }
   ],
   "source": [
    "#check dataset summary\n",
    "data_df.info()"
   ]
  },
  {
   "cell_type": "markdown",
   "metadata": {},
   "source": [
    "- This summary tells there is no missing values which is not accurate (due to the unset fields with '-' values).\n",
    "- Some numerical fields are misidentified as object (string) which will be fixed later as well."
   ]
  },
  {
   "cell_type": "markdown",
   "metadata": {},
   "source": [
    "# 3. Data Cleaning and Preprocessing"
   ]
  },
  {
   "cell_type": "markdown",
   "metadata": {},
   "source": [
    "### Fixing combined column\n",
    "The last columns in the dataset contains three separate values and needs to be unpacked into three corresponding columns. This is due to unmatched separators in the original data file."
   ]
  },
  {
   "cell_type": "code",
   "execution_count": 184,
   "metadata": {},
   "outputs": [],
   "source": [
    "#split the last combined column into three ones\n",
    "tunnel_parents_column = data_df.iloc[:,-1].apply(lambda x: x.split()[0])\n",
    "label_column = data_df.iloc[:,-1].apply(lambda x: x.split()[1])\n",
    "detailed_label_column = data_df.iloc[:,-1].apply(lambda x: x.split()[2])"
   ]
  },
  {
   "cell_type": "code",
   "execution_count": 185,
   "metadata": {},
   "outputs": [],
   "source": [
    "#drop the combined column\n",
    "data_df.drop([\"tunnel_parents   label   detailed-label\"], axis=1, inplace=True)"
   ]
  },
  {
   "cell_type": "code",
   "execution_count": 186,
   "metadata": {},
   "outputs": [],
   "source": [
    "#add new individual columns to the dataset\n",
    "data_df[\"tunnel_parents\"] = tunnel_parents_column\n",
    "data_df[\"label\"] = label_column\n",
    "data_df[\"detailed_label\"] = detailed_label_column"
   ]
  },
  {
   "cell_type": "code",
   "execution_count": 187,
   "metadata": {},
   "outputs": [
    {
     "data": {
      "text/html": [
       "<div>\n",
       "<style scoped>\n",
       "    .dataframe tbody tr th:only-of-type {\n",
       "        vertical-align: middle;\n",
       "    }\n",
       "\n",
       "    .dataframe tbody tr th {\n",
       "        vertical-align: top;\n",
       "    }\n",
       "\n",
       "    .dataframe thead th {\n",
       "        text-align: right;\n",
       "    }\n",
       "</style>\n",
       "<table border=\"1\" class=\"dataframe\">\n",
       "  <thead>\n",
       "    <tr style=\"text-align: right;\">\n",
       "      <th></th>\n",
       "      <th>ts</th>\n",
       "      <th>uid</th>\n",
       "      <th>id.orig_h</th>\n",
       "      <th>id.orig_p</th>\n",
       "      <th>id.resp_h</th>\n",
       "      <th>id.resp_p</th>\n",
       "      <th>proto</th>\n",
       "      <th>service</th>\n",
       "      <th>duration</th>\n",
       "      <th>orig_bytes</th>\n",
       "      <th>resp_bytes</th>\n",
       "      <th>conn_state</th>\n",
       "      <th>local_orig</th>\n",
       "      <th>local_resp</th>\n",
       "      <th>missed_bytes</th>\n",
       "      <th>history</th>\n",
       "      <th>orig_pkts</th>\n",
       "      <th>orig_ip_bytes</th>\n",
       "      <th>resp_pkts</th>\n",
       "      <th>resp_ip_bytes</th>\n",
       "      <th>tunnel_parents</th>\n",
       "      <th>label</th>\n",
       "      <th>detailed_label</th>\n",
       "    </tr>\n",
       "  </thead>\n",
       "  <tbody>\n",
       "    <tr>\n",
       "      <th>0</th>\n",
       "      <td>1.545404e+09</td>\n",
       "      <td>CrDn63WjJEmrWGjqf</td>\n",
       "      <td>192.168.1.195</td>\n",
       "      <td>41040</td>\n",
       "      <td>185.244.25.235</td>\n",
       "      <td>80</td>\n",
       "      <td>tcp</td>\n",
       "      <td>-</td>\n",
       "      <td>3.139211</td>\n",
       "      <td>0</td>\n",
       "      <td>0</td>\n",
       "      <td>S0</td>\n",
       "      <td>-</td>\n",
       "      <td>-</td>\n",
       "      <td>0</td>\n",
       "      <td>S</td>\n",
       "      <td>3</td>\n",
       "      <td>180</td>\n",
       "      <td>0</td>\n",
       "      <td>0</td>\n",
       "      <td>-</td>\n",
       "      <td>Benign</td>\n",
       "      <td>-</td>\n",
       "    </tr>\n",
       "    <tr>\n",
       "      <th>1</th>\n",
       "      <td>1.545404e+09</td>\n",
       "      <td>CY9lJW3gh1Eje4usP6</td>\n",
       "      <td>192.168.1.195</td>\n",
       "      <td>41040</td>\n",
       "      <td>185.244.25.235</td>\n",
       "      <td>80</td>\n",
       "      <td>tcp</td>\n",
       "      <td>-</td>\n",
       "      <td>-</td>\n",
       "      <td>-</td>\n",
       "      <td>-</td>\n",
       "      <td>S0</td>\n",
       "      <td>-</td>\n",
       "      <td>-</td>\n",
       "      <td>0</td>\n",
       "      <td>S</td>\n",
       "      <td>1</td>\n",
       "      <td>60</td>\n",
       "      <td>0</td>\n",
       "      <td>0</td>\n",
       "      <td>-</td>\n",
       "      <td>Benign</td>\n",
       "      <td>-</td>\n",
       "    </tr>\n",
       "    <tr>\n",
       "      <th>2</th>\n",
       "      <td>1.545404e+09</td>\n",
       "      <td>CcFXLynukEDnUlvgl</td>\n",
       "      <td>192.168.1.195</td>\n",
       "      <td>41040</td>\n",
       "      <td>185.244.25.235</td>\n",
       "      <td>80</td>\n",
       "      <td>tcp</td>\n",
       "      <td>-</td>\n",
       "      <td>-</td>\n",
       "      <td>-</td>\n",
       "      <td>-</td>\n",
       "      <td>S0</td>\n",
       "      <td>-</td>\n",
       "      <td>-</td>\n",
       "      <td>0</td>\n",
       "      <td>S</td>\n",
       "      <td>1</td>\n",
       "      <td>60</td>\n",
       "      <td>0</td>\n",
       "      <td>0</td>\n",
       "      <td>-</td>\n",
       "      <td>Benign</td>\n",
       "      <td>-</td>\n",
       "    </tr>\n",
       "    <tr>\n",
       "      <th>3</th>\n",
       "      <td>1.545404e+09</td>\n",
       "      <td>CDrkrSobGYxHhYfth</td>\n",
       "      <td>192.168.1.195</td>\n",
       "      <td>41040</td>\n",
       "      <td>185.244.25.235</td>\n",
       "      <td>80</td>\n",
       "      <td>tcp</td>\n",
       "      <td>http</td>\n",
       "      <td>1.477656</td>\n",
       "      <td>149</td>\n",
       "      <td>128252</td>\n",
       "      <td>SF</td>\n",
       "      <td>-</td>\n",
       "      <td>-</td>\n",
       "      <td>2896</td>\n",
       "      <td>ShADadttcfF</td>\n",
       "      <td>94</td>\n",
       "      <td>5525</td>\n",
       "      <td>96</td>\n",
       "      <td>139044</td>\n",
       "      <td>-</td>\n",
       "      <td>Benign</td>\n",
       "      <td>-</td>\n",
       "    </tr>\n",
       "    <tr>\n",
       "      <th>4</th>\n",
       "      <td>1.545404e+09</td>\n",
       "      <td>CTWZQf2oJSvq6zmPAc</td>\n",
       "      <td>192.168.1.195</td>\n",
       "      <td>41042</td>\n",
       "      <td>185.244.25.235</td>\n",
       "      <td>80</td>\n",
       "      <td>tcp</td>\n",
       "      <td>-</td>\n",
       "      <td>3.147116</td>\n",
       "      <td>0</td>\n",
       "      <td>0</td>\n",
       "      <td>S0</td>\n",
       "      <td>-</td>\n",
       "      <td>-</td>\n",
       "      <td>0</td>\n",
       "      <td>S</td>\n",
       "      <td>3</td>\n",
       "      <td>180</td>\n",
       "      <td>0</td>\n",
       "      <td>0</td>\n",
       "      <td>-</td>\n",
       "      <td>Benign</td>\n",
       "      <td>-</td>\n",
       "    </tr>\n",
       "  </tbody>\n",
       "</table>\n",
       "</div>"
      ],
      "text/plain": [
       "0            ts                 uid      id.orig_h  id.orig_p       id.resp_h  \\\n",
       "0  1.545404e+09   CrDn63WjJEmrWGjqf  192.168.1.195      41040  185.244.25.235   \n",
       "1  1.545404e+09  CY9lJW3gh1Eje4usP6  192.168.1.195      41040  185.244.25.235   \n",
       "2  1.545404e+09   CcFXLynukEDnUlvgl  192.168.1.195      41040  185.244.25.235   \n",
       "3  1.545404e+09   CDrkrSobGYxHhYfth  192.168.1.195      41040  185.244.25.235   \n",
       "4  1.545404e+09  CTWZQf2oJSvq6zmPAc  192.168.1.195      41042  185.244.25.235   \n",
       "\n",
       "0  id.resp_p proto service  duration orig_bytes resp_bytes conn_state  \\\n",
       "0         80   tcp       -  3.139211          0          0         S0   \n",
       "1         80   tcp       -         -          -          -         S0   \n",
       "2         80   tcp       -         -          -          -         S0   \n",
       "3         80   tcp    http  1.477656        149     128252         SF   \n",
       "4         80   tcp       -  3.147116          0          0         S0   \n",
       "\n",
       "0 local_orig local_resp  missed_bytes      history  orig_pkts  orig_ip_bytes  \\\n",
       "0          -          -             0            S          3            180   \n",
       "1          -          -             0            S          1             60   \n",
       "2          -          -             0            S          1             60   \n",
       "3          -          -          2896  ShADadttcfF         94           5525   \n",
       "4          -          -             0            S          3            180   \n",
       "\n",
       "0  resp_pkts  resp_ip_bytes tunnel_parents   label detailed_label  \n",
       "0          0              0              -  Benign              -  \n",
       "1          0              0              -  Benign              -  \n",
       "2          0              0              -  Benign              -  \n",
       "3         96         139044              -  Benign              -  \n",
       "4          0              0              -  Benign              -  "
      ]
     },
     "execution_count": 187,
     "metadata": {},
     "output_type": "execute_result"
    }
   ],
   "source": [
    "#check the dataset\n",
    "data_df.head()"
   ]
  },
  {
   "cell_type": "markdown",
   "metadata": {},
   "source": [
    "### Drop irrelevant columns\n",
    "Drop extra columns that don't contribute to the data analysis and predictions (ex. ids, columns with only unique values, columns with just one value, ...)."
   ]
  },
  {
   "cell_type": "code",
   "execution_count": 188,
   "metadata": {},
   "outputs": [
    {
     "data": {
      "text/plain": [
       "0\n",
       "ts                23145\n",
       "uid               23145\n",
       "duration           4654\n",
       "id.orig_p          4383\n",
       "orig_ip_bytes       108\n",
       "resp_ip_bytes        62\n",
       "orig_pkts            53\n",
       "id.resp_h            49\n",
       "resp_bytes           44\n",
       "orig_bytes           29\n",
       "resp_pkts            28\n",
       "history              26\n",
       "id.resp_p            10\n",
       "conn_state            6\n",
       "service               5\n",
       "detailed_label        4\n",
       "missed_bytes          3\n",
       "proto                 2\n",
       "id.orig_h             2\n",
       "label                 2\n",
       "local_resp            1\n",
       "local_orig            1\n",
       "tunnel_parents        1\n",
       "dtype: int64"
      ]
     },
     "execution_count": 188,
     "metadata": {},
     "output_type": "execute_result"
    }
   ],
   "source": [
    "#check the number of unique values in each column\n",
    "data_df.nunique().sort_values(ascending=False)"
   ]
  },
  {
   "cell_type": "code",
   "execution_count": 189,
   "metadata": {},
   "outputs": [
    {
     "data": {
      "text/html": [
       "<div>\n",
       "<style scoped>\n",
       "    .dataframe tbody tr th:only-of-type {\n",
       "        vertical-align: middle;\n",
       "    }\n",
       "\n",
       "    .dataframe tbody tr th {\n",
       "        vertical-align: top;\n",
       "    }\n",
       "\n",
       "    .dataframe thead th {\n",
       "        text-align: right;\n",
       "    }\n",
       "</style>\n",
       "<table border=\"1\" class=\"dataframe\">\n",
       "  <thead>\n",
       "    <tr style=\"text-align: right;\">\n",
       "      <th></th>\n",
       "      <th>id.orig_h</th>\n",
       "      <th>id.orig_p</th>\n",
       "      <th>id.resp_h</th>\n",
       "      <th>id.resp_p</th>\n",
       "      <th>proto</th>\n",
       "      <th>service</th>\n",
       "      <th>duration</th>\n",
       "      <th>orig_bytes</th>\n",
       "      <th>resp_bytes</th>\n",
       "      <th>conn_state</th>\n",
       "      <th>missed_bytes</th>\n",
       "      <th>history</th>\n",
       "      <th>orig_pkts</th>\n",
       "      <th>orig_ip_bytes</th>\n",
       "      <th>resp_pkts</th>\n",
       "      <th>resp_ip_bytes</th>\n",
       "      <th>label</th>\n",
       "    </tr>\n",
       "  </thead>\n",
       "  <tbody>\n",
       "    <tr>\n",
       "      <th>0</th>\n",
       "      <td>192.168.1.195</td>\n",
       "      <td>41040</td>\n",
       "      <td>185.244.25.235</td>\n",
       "      <td>80</td>\n",
       "      <td>tcp</td>\n",
       "      <td>-</td>\n",
       "      <td>3.139211</td>\n",
       "      <td>0</td>\n",
       "      <td>0</td>\n",
       "      <td>S0</td>\n",
       "      <td>0</td>\n",
       "      <td>S</td>\n",
       "      <td>3</td>\n",
       "      <td>180</td>\n",
       "      <td>0</td>\n",
       "      <td>0</td>\n",
       "      <td>Benign</td>\n",
       "    </tr>\n",
       "    <tr>\n",
       "      <th>1</th>\n",
       "      <td>192.168.1.195</td>\n",
       "      <td>41040</td>\n",
       "      <td>185.244.25.235</td>\n",
       "      <td>80</td>\n",
       "      <td>tcp</td>\n",
       "      <td>-</td>\n",
       "      <td>-</td>\n",
       "      <td>-</td>\n",
       "      <td>-</td>\n",
       "      <td>S0</td>\n",
       "      <td>0</td>\n",
       "      <td>S</td>\n",
       "      <td>1</td>\n",
       "      <td>60</td>\n",
       "      <td>0</td>\n",
       "      <td>0</td>\n",
       "      <td>Benign</td>\n",
       "    </tr>\n",
       "    <tr>\n",
       "      <th>2</th>\n",
       "      <td>192.168.1.195</td>\n",
       "      <td>41040</td>\n",
       "      <td>185.244.25.235</td>\n",
       "      <td>80</td>\n",
       "      <td>tcp</td>\n",
       "      <td>-</td>\n",
       "      <td>-</td>\n",
       "      <td>-</td>\n",
       "      <td>-</td>\n",
       "      <td>S0</td>\n",
       "      <td>0</td>\n",
       "      <td>S</td>\n",
       "      <td>1</td>\n",
       "      <td>60</td>\n",
       "      <td>0</td>\n",
       "      <td>0</td>\n",
       "      <td>Benign</td>\n",
       "    </tr>\n",
       "    <tr>\n",
       "      <th>3</th>\n",
       "      <td>192.168.1.195</td>\n",
       "      <td>41040</td>\n",
       "      <td>185.244.25.235</td>\n",
       "      <td>80</td>\n",
       "      <td>tcp</td>\n",
       "      <td>http</td>\n",
       "      <td>1.477656</td>\n",
       "      <td>149</td>\n",
       "      <td>128252</td>\n",
       "      <td>SF</td>\n",
       "      <td>2896</td>\n",
       "      <td>ShADadttcfF</td>\n",
       "      <td>94</td>\n",
       "      <td>5525</td>\n",
       "      <td>96</td>\n",
       "      <td>139044</td>\n",
       "      <td>Benign</td>\n",
       "    </tr>\n",
       "    <tr>\n",
       "      <th>4</th>\n",
       "      <td>192.168.1.195</td>\n",
       "      <td>41042</td>\n",
       "      <td>185.244.25.235</td>\n",
       "      <td>80</td>\n",
       "      <td>tcp</td>\n",
       "      <td>-</td>\n",
       "      <td>3.147116</td>\n",
       "      <td>0</td>\n",
       "      <td>0</td>\n",
       "      <td>S0</td>\n",
       "      <td>0</td>\n",
       "      <td>S</td>\n",
       "      <td>3</td>\n",
       "      <td>180</td>\n",
       "      <td>0</td>\n",
       "      <td>0</td>\n",
       "      <td>Benign</td>\n",
       "    </tr>\n",
       "  </tbody>\n",
       "</table>\n",
       "</div>"
      ],
      "text/plain": [
       "0      id.orig_h  id.orig_p       id.resp_h  id.resp_p proto service  \\\n",
       "0  192.168.1.195      41040  185.244.25.235         80   tcp       -   \n",
       "1  192.168.1.195      41040  185.244.25.235         80   tcp       -   \n",
       "2  192.168.1.195      41040  185.244.25.235         80   tcp       -   \n",
       "3  192.168.1.195      41040  185.244.25.235         80   tcp    http   \n",
       "4  192.168.1.195      41042  185.244.25.235         80   tcp       -   \n",
       "\n",
       "0  duration orig_bytes resp_bytes conn_state  missed_bytes      history  \\\n",
       "0  3.139211          0          0         S0             0            S   \n",
       "1         -          -          -         S0             0            S   \n",
       "2         -          -          -         S0             0            S   \n",
       "3  1.477656        149     128252         SF          2896  ShADadttcfF   \n",
       "4  3.147116          0          0         S0             0            S   \n",
       "\n",
       "0  orig_pkts  orig_ip_bytes  resp_pkts  resp_ip_bytes   label  \n",
       "0          3            180          0              0  Benign  \n",
       "1          1             60          0              0  Benign  \n",
       "2          1             60          0              0  Benign  \n",
       "3         94           5525         96         139044  Benign  \n",
       "4          3            180          0              0  Benign  "
      ]
     },
     "execution_count": 189,
     "metadata": {},
     "output_type": "execute_result"
    }
   ],
   "source": [
    "#two columns have only unique values and three columns have only one value, so we should drop them.\n",
    "data_df.drop(columns=[\"ts\",\"uid\",\"local_resp\",\"local_orig\",\"tunnel_parents\"], inplace=True)\n",
    "\n",
    "#the \"detailed label\" column provides more information about the \"label\" column itself, so it doesn't contribute to the data analysis.\n",
    "data_df.drop(columns=\"detailed_label\", inplace=True)\n",
    "\n",
    "#check the dataset\n",
    "data_df.head()"
   ]
  },
  {
   "cell_type": "markdown",
   "metadata": {},
   "source": [
    "### Fix unset values and validate the data types \n",
    "According to the dataset documentation, empty and unset values are represented as \"-\" and \"(empty)\". This is why info() method did't show any missing values. Fixing these values is essential to correct the types of numeric attributes that were misinterpreted as string."
   ]
  },
  {
   "cell_type": "code",
   "execution_count": 190,
   "metadata": {},
   "outputs": [],
   "source": [
    "#replace all occurrences of empty/unset cells with null values.\n",
    "data_df.replace({'-':np.nan, \"(empty)\":np.nan}, inplace=True)"
   ]
  },
  {
   "cell_type": "code",
   "execution_count": 191,
   "metadata": {},
   "outputs": [],
   "source": [
    "#fix the data type for the misinterpreted columns.\n",
    "dtype_convert_dict = {\n",
    "    \"duration\": float,\n",
    "    \"orig_bytes\": float,\n",
    "    \"resp_bytes\": float\n",
    "}\n",
    "data_df = data_df.astype(dtype_convert_dict)"
   ]
  },
  {
   "cell_type": "code",
   "execution_count": 192,
   "metadata": {},
   "outputs": [
    {
     "name": "stdout",
     "output_type": "stream",
     "text": [
      "<class 'pandas.core.frame.DataFrame'>\n",
      "RangeIndex: 23145 entries, 0 to 23144\n",
      "Data columns (total 17 columns):\n",
      " #   Column         Non-Null Count  Dtype  \n",
      "---  ------         --------------  -----  \n",
      " 0   id.orig_h      23145 non-null  object \n",
      " 1   id.orig_p      23145 non-null  int64  \n",
      " 2   id.resp_h      23145 non-null  object \n",
      " 3   id.resp_p      23145 non-null  int64  \n",
      " 4   proto          23145 non-null  object \n",
      " 5   service        1847 non-null   object \n",
      " 6   duration       5321 non-null   float64\n",
      " 7   orig_bytes     5321 non-null   float64\n",
      " 8   resp_bytes     5321 non-null   float64\n",
      " 9   conn_state     23145 non-null  object \n",
      " 10  missed_bytes   23145 non-null  int64  \n",
      " 11  history        23145 non-null  object \n",
      " 12  orig_pkts      23145 non-null  int64  \n",
      " 13  orig_ip_bytes  23145 non-null  int64  \n",
      " 14  resp_pkts      23145 non-null  int64  \n",
      " 15  resp_ip_bytes  23145 non-null  int64  \n",
      " 16  label          23145 non-null  object \n",
      "dtypes: float64(3), int64(7), object(7)\n",
      "memory usage: 3.0+ MB\n"
     ]
    }
   ],
   "source": [
    "#check the dataset summary.\n",
    "data_df.info()"
   ]
  },
  {
   "cell_type": "markdown",
   "metadata": {},
   "source": [
    "### Handle outliers"
   ]
  },
  {
   "cell_type": "code",
   "execution_count": 193,
   "metadata": {},
   "outputs": [
    {
     "data": {
      "text/html": [
       "<div>\n",
       "<style scoped>\n",
       "    .dataframe tbody tr th:only-of-type {\n",
       "        vertical-align: middle;\n",
       "    }\n",
       "\n",
       "    .dataframe tbody tr th {\n",
       "        vertical-align: top;\n",
       "    }\n",
       "\n",
       "    .dataframe thead th {\n",
       "        text-align: right;\n",
       "    }\n",
       "</style>\n",
       "<table border=\"1\" class=\"dataframe\">\n",
       "  <thead>\n",
       "    <tr style=\"text-align: right;\">\n",
       "      <th></th>\n",
       "      <th>duration</th>\n",
       "      <th>orig_bytes</th>\n",
       "      <th>resp_bytes</th>\n",
       "      <th>missed_bytes</th>\n",
       "      <th>orig_pkts</th>\n",
       "      <th>orig_ip_bytes</th>\n",
       "      <th>resp_pkts</th>\n",
       "      <th>resp_ip_bytes</th>\n",
       "    </tr>\n",
       "  </thead>\n",
       "  <tbody>\n",
       "    <tr>\n",
       "      <th>count</th>\n",
       "      <td>5321.000000</td>\n",
       "      <td>5.321000e+03</td>\n",
       "      <td>5321.000000</td>\n",
       "      <td>23145.000000</td>\n",
       "      <td>23145.000000</td>\n",
       "      <td>2.314500e+04</td>\n",
       "      <td>23145.000000</td>\n",
       "      <td>23145.000000</td>\n",
       "    </tr>\n",
       "    <tr>\n",
       "      <th>mean</th>\n",
       "      <td>22.806503</td>\n",
       "      <td>1.478868e+04</td>\n",
       "      <td>350.429431</td>\n",
       "      <td>2.127112</td>\n",
       "      <td>6.375157</td>\n",
       "      <td>3.664312e+03</td>\n",
       "      <td>0.611017</td>\n",
       "      <td>111.218967</td>\n",
       "    </tr>\n",
       "    <tr>\n",
       "      <th>std</th>\n",
       "      <td>722.522302</td>\n",
       "      <td>1.036441e+06</td>\n",
       "      <td>5378.262771</td>\n",
       "      <td>102.490787</td>\n",
       "      <td>178.548725</td>\n",
       "      <td>5.003762e+05</td>\n",
       "      <td>8.305898</td>\n",
       "      <td>2713.082822</td>\n",
       "    </tr>\n",
       "    <tr>\n",
       "      <th>min</th>\n",
       "      <td>0.000497</td>\n",
       "      <td>0.000000e+00</td>\n",
       "      <td>0.000000</td>\n",
       "      <td>0.000000</td>\n",
       "      <td>0.000000</td>\n",
       "      <td>0.000000e+00</td>\n",
       "      <td>0.000000</td>\n",
       "      <td>0.000000</td>\n",
       "    </tr>\n",
       "    <tr>\n",
       "      <th>25%</th>\n",
       "      <td>2.075814</td>\n",
       "      <td>0.000000e+00</td>\n",
       "      <td>0.000000</td>\n",
       "      <td>0.000000</td>\n",
       "      <td>0.000000</td>\n",
       "      <td>0.000000e+00</td>\n",
       "      <td>0.000000</td>\n",
       "      <td>0.000000</td>\n",
       "    </tr>\n",
       "    <tr>\n",
       "      <th>50%</th>\n",
       "      <td>3.110974</td>\n",
       "      <td>0.000000e+00</td>\n",
       "      <td>0.000000</td>\n",
       "      <td>0.000000</td>\n",
       "      <td>0.000000</td>\n",
       "      <td>0.000000e+00</td>\n",
       "      <td>0.000000</td>\n",
       "      <td>0.000000</td>\n",
       "    </tr>\n",
       "    <tr>\n",
       "      <th>75%</th>\n",
       "      <td>3.153695</td>\n",
       "      <td>6.200000e+01</td>\n",
       "      <td>243.000000</td>\n",
       "      <td>0.000000</td>\n",
       "      <td>1.000000</td>\n",
       "      <td>7.600000e+01</td>\n",
       "      <td>0.000000</td>\n",
       "      <td>0.000000</td>\n",
       "    </tr>\n",
       "    <tr>\n",
       "      <th>max</th>\n",
       "      <td>48976.819063</td>\n",
       "      <td>7.554662e+07</td>\n",
       "      <td>164266.000000</td>\n",
       "      <td>5792.000000</td>\n",
       "      <td>18444.000000</td>\n",
       "      <td>7.606306e+07</td>\n",
       "      <td>1070.000000</td>\n",
       "      <td>168910.000000</td>\n",
       "    </tr>\n",
       "  </tbody>\n",
       "</table>\n",
       "</div>"
      ],
      "text/plain": [
       "0          duration    orig_bytes     resp_bytes  missed_bytes     orig_pkts  \\\n",
       "count   5321.000000  5.321000e+03    5321.000000  23145.000000  23145.000000   \n",
       "mean      22.806503  1.478868e+04     350.429431      2.127112      6.375157   \n",
       "std      722.522302  1.036441e+06    5378.262771    102.490787    178.548725   \n",
       "min        0.000497  0.000000e+00       0.000000      0.000000      0.000000   \n",
       "25%        2.075814  0.000000e+00       0.000000      0.000000      0.000000   \n",
       "50%        3.110974  0.000000e+00       0.000000      0.000000      0.000000   \n",
       "75%        3.153695  6.200000e+01     243.000000      0.000000      1.000000   \n",
       "max    48976.819063  7.554662e+07  164266.000000   5792.000000  18444.000000   \n",
       "\n",
       "0      orig_ip_bytes     resp_pkts  resp_ip_bytes  \n",
       "count   2.314500e+04  23145.000000   23145.000000  \n",
       "mean    3.664312e+03      0.611017     111.218967  \n",
       "std     5.003762e+05      8.305898    2713.082822  \n",
       "min     0.000000e+00      0.000000       0.000000  \n",
       "25%     0.000000e+00      0.000000       0.000000  \n",
       "50%     0.000000e+00      0.000000       0.000000  \n",
       "75%     7.600000e+01      0.000000       0.000000  \n",
       "max     7.606306e+07   1070.000000  168910.000000  "
      ]
     },
     "execution_count": 193,
     "metadata": {},
     "output_type": "execute_result"
    }
   ],
   "source": [
    "#using describe() method to obtain some general statistics about the numerical features\n",
    "numerical_features = [\"duration\", \"orig_bytes\",\t\"resp_bytes\", \"missed_bytes\", \"orig_pkts\",\t\"orig_ip_bytes\", \"resp_pkts\", \"resp_ip_bytes\"]\n",
    "data_df[numerical_features].describe()"
   ]
  },
  {
   "cell_type": "markdown",
   "metadata": {},
   "source": [
    "- From a quick reading of the statistical summary, we noticed many features with values that can be seen as outliers. \n",
    "- However, it's fairly difficult to confirm such values and their actual reasons without proper explanations by experts from the corresponding domain.\n",
    "- For the sake of this demo, we well treat only \"duration\" as a feature with actual outliers as it's the only feature with significant amount of unique values."
   ]
  },
  {
   "cell_type": "code",
   "execution_count": 194,
   "metadata": {},
   "outputs": [
    {
     "data": {
      "text/plain": [
       "<Axes: ylabel='duration'>"
      ]
     },
     "execution_count": 194,
     "metadata": {},
     "output_type": "execute_result"
    },
    {
     "data": {
      "image/png": "[encoded data removed]",
      "text/plain": [
       "<Figure size 640x480 with 1 Axes>"
      ]
     },
     "metadata": {},
     "output_type": "display_data"
    }
   ],
   "source": [
    "#plot \"duration\" feature on a boxplot\n",
    "sns.boxplot(data=data_df, y=\"duration\")"
   ]
  },
  {
   "cell_type": "code",
   "execution_count": 195,
   "metadata": {},
   "outputs": [
    {
     "name": "stdout",
     "output_type": "stream",
     "text": [
      "(min,max) bounds for \"duration\": (0.4589924999999997,4.7705165)\n"
     ]
    }
   ],
   "source": [
    "#replacing outliers using IQR (Inter-quartile Range)\n",
    "outliers_columns = ['duration']\n",
    "for col_name in outliers_columns:\n",
    "    #calculate first and third quartiles\n",
    "    q1, q3 = np.nanpercentile(data_df[col_name],[25,75])\n",
    "    \n",
    "    #calculate the inter-quartile range\n",
    "    intr_qr = q3-q1\n",
    "\n",
    "    #calculate lower and higher bounds\n",
    "    iqr_min_val = q1-(1.5*intr_qr)\n",
    "    iqr_max_val = q3+(1.5*intr_qr)\n",
    "    print(f\"(min,max) bounds for \\\"{col_name}\\\": ({iqr_min_val},{iqr_max_val})\")\n",
    "    \n",
    "    #replace values that are less than min or larger then max with np.nan\n",
    "    data_df.loc[data_df[col_name] < iqr_min_val, col_name] = np.nan\n",
    "    data_df.loc[data_df[col_name] > iqr_max_val, col_name] = np.nan"
   ]
  },
  {
   "cell_type": "code",
   "execution_count": 196,
   "metadata": {},
   "outputs": [
    {
     "data": {
      "text/plain": [
       "count    3718.000000\n",
       "mean        2.848130\n",
       "std         0.806614\n",
       "min         0.553685\n",
       "25%         3.085004\n",
       "50%         3.110717\n",
       "75%         3.140398\n",
       "max         4.723553\n",
       "Name: duration, dtype: float64"
      ]
     },
     "execution_count": 196,
     "metadata": {},
     "output_type": "execute_result"
    }
   ],
   "source": [
    "#reevaluate the new distribution of values\n",
    "data_df[\"duration\"].describe()"
   ]
  },
  {
   "cell_type": "markdown",
   "metadata": {},
   "source": [
    "### Encode IP addresses\n",
    "Some columns contain IP addresses which need to be encoded into a corresponding numeric format"
   ]
  },
  {
   "cell_type": "code",
   "execution_count": 197,
   "metadata": {},
   "outputs": [],
   "source": [
    "#function to encode an ip address using the IPv4/IPv6 manipulation library\n",
    "def encode_ipv4(ip):\n",
    "    return int(ipaddress.IPv4Address(ip))"
   ]
  },
  {
   "cell_type": "code",
   "execution_count": 198,
   "metadata": {},
   "outputs": [],
   "source": [
    "#encoding ip features into numerical values\n",
    "data_df[\"id.orig_h\"] = data_df[\"id.orig_h\"].apply(encode_ipv4)\n",
    "data_df[\"id.resp_h\"] = data_df[\"id.resp_h\"].apply(encode_ipv4)"
   ]
  },
  {
   "cell_type": "code",
   "execution_count": 199,
   "metadata": {},
   "outputs": [
    {
     "name": "stdout",
     "output_type": "stream",
     "text": [
      "IP col (id.orig_h) values: [3232235971 3232235777]\n",
      "IP col (id.resp_h) values: [3119782379 2481415173 3278999753 1383150888 1359149245 1507709628\n",
      " 3232235971 1359150816 3232235777 3266728169 1403518070 3563102355\n",
      " 3247836863 1296985084  522144291 1843416203  633038892 1315727085\n",
      " 1372076301 1359007963 2482712716 1359150624 3642641299 3116200853\n",
      "  773615348 1585212350 1383150884  773614874 1507709998   83966075\n",
      " 1347361135  631095852 1508837990 1507710594 1358024824 1354654157\n",
      " 1760474084 1352111981 1111702952   16843009  842150453 2297672069\n",
      " 2892123595 2449481872 1383150883 3272968657 2067517881 1247507960\n",
      " 1195197076]\n"
     ]
    }
   ],
   "source": [
    "#check encoded ip addresses\n",
    "ip_columns = [\"id.orig_h\",\"id.resp_h\"]\n",
    "for c in ip_columns:\n",
    "    print(f\"IP col ({c}) values: {data_df[c].unique()}\")"
   ]
  },
  {
   "cell_type": "markdown",
   "metadata": {},
   "source": [
    "### Handle missing values"
   ]
  },
  {
   "cell_type": "code",
   "execution_count": 200,
   "metadata": {},
   "outputs": [
    {
     "data": {
      "text/plain": [
       "0\n",
       "service          21298\n",
       "duration         19427\n",
       "resp_bytes       17824\n",
       "orig_bytes       17824\n",
       "missed_bytes         0\n",
       "resp_ip_bytes        0\n",
       "resp_pkts            0\n",
       "orig_ip_bytes        0\n",
       "orig_pkts            0\n",
       "history              0\n",
       "id.orig_h            0\n",
       "conn_state           0\n",
       "id.orig_p            0\n",
       "proto                0\n",
       "id.resp_p            0\n",
       "id.resp_h            0\n",
       "label                0\n",
       "dtype: int64"
      ]
     },
     "execution_count": 200,
     "metadata": {},
     "output_type": "execute_result"
    }
   ],
   "source": [
    "#check the number of null values in each column\n",
    "data_df.isnull().sum().sort_values(ascending=False)"
   ]
  },
  {
   "cell_type": "code",
   "execution_count": 201,
   "metadata": {},
   "outputs": [
    {
     "data": {
      "text/plain": [
       "<Axes: xlabel='0'>"
      ]
     },
     "execution_count": 201,
     "metadata": {},
     "output_type": "execute_result"
    },
    {
     "data": {
      "image/png": "[encoded data removed]",
      "text/plain": [
       "<Figure size 640x480 with 1 Axes>"
      ]
     },
     "metadata": {},
     "output_type": "display_data"
    }
   ],
   "source": [
    "#check null values using heatmap\n",
    "sns.heatmap(data=data_df.isnull(), yticklabels=False, cbar=False, cmap=\"viridis\")"
   ]
  },
  {
   "cell_type": "markdown",
   "metadata": {},
   "source": [
    "- There are only 4 columns with a lot of missing values, one categorical (\"service) and three numerical ([\"duration\",\"orig_bytes\",\"resp_bytes\"]).\n",
    "- One possible approach is to entirely discard these columns from the dataset. Instead, we will try to impute their values to preserve any hidden information and check it we could obtain better prediction performance."
   ]
  },
  {
   "cell_type": "markdown",
   "metadata": {},
   "source": [
    "#### Impute missing values: categorical features"
   ]
  },
  {
   "cell_type": "code",
   "execution_count": 202,
   "metadata": {},
   "outputs": [
    {
     "data": {
      "text/plain": [
       "<Axes: xlabel='label', ylabel='count'>"
      ]
     },
     "execution_count": 202,
     "metadata": {},
     "output_type": "execute_result"
    },
    {
     "data": {
      "image/png": "[encoded data removed]",
      "text/plain": [
       "<Figure size 640x480 with 1 Axes>"
      ]
     },
     "metadata": {},
     "output_type": "display_data"
    }
   ],
   "source": [
    "#check the relationship between \"service\" and target attribute\n",
    "sns.countplot(data=data_df, x=\"label\", hue=\"service\")"
   ]
  },
  {
   "cell_type": "markdown",
   "metadata": {},
   "source": [
    "- Due to this visualization, almost all *Malicious* observations belong to a specific service type (\"irc\"), while the other 3 types represent *Benign* samples.\n",
    "- Accordingly, although \"service\" has high number of missing values, it has a strong correlation with the target attribute.\n",
    "- The decision here is to keep \"service\" attribute while trying to impute missing values using another classifier. "
   ]
  },
  {
   "cell_type": "code",
   "execution_count": 203,
   "metadata": {},
   "outputs": [
    {
     "name": "stdout",
     "output_type": "stream",
     "text": [
      "Prediction accuracy for 'service' is: 1.0\n",
      "Classification report:\n",
      "              precision    recall  f1-score   support\n",
      "\n",
      "         dns       1.00      1.00      1.00        41\n",
      "        http       1.00      1.00      1.00         5\n",
      "         irc       1.00      1.00      1.00       324\n",
      "\n",
      "    accuracy                           1.00       370\n",
      "   macro avg       1.00      1.00      1.00       370\n",
      "weighted avg       1.00      1.00      1.00       370\n",
      "\n"
     ]
    }
   ],
   "source": [
    "#select specific columns to be used for the classification, here we initially select the numerical attributes with no missing values.\n",
    "srv_training_columns = [\"id.orig_h\",\"id.orig_p\",\"id.resp_h\",\"id.resp_p\",\"missed_bytes\",\"orig_pkts\",\"orig_ip_bytes\",\"resp_pkts\",\"resp_ip_bytes\"] \n",
    "\n",
    "#split the rows into two datasets containing rows with/without \"service\".\n",
    "data_df_with_service = data_df[data_df[\"service\"].notna()]\n",
    "data_df_no_service = data_df[data_df[\"service\"].isna()]\n",
    "\n",
    "#split the service dataset into dependent and independent features\n",
    "srv_X = data_df_with_service[srv_training_columns]\n",
    "srv_y = data_df_with_service[\"service\"].values\n",
    "\n",
    "#split into train/test subsets\n",
    "srv_X_train, srv_X_test, srv_y_train, srv_y_test = train_test_split(srv_X, srv_y, test_size=0.2, random_state=0)\n",
    "\n",
    "#create KNN estimator and fit it\n",
    "srv_knn = KNeighborsClassifier(n_neighbors=3)\n",
    "srv_knn.fit(srv_X_train, srv_y_train)\n",
    "\n",
    "#predict missing values\n",
    "srv_y_pred = srv_knn.predict(srv_X_test)\n",
    "\n",
    "#check accuracy of predictions\n",
    "srv_accuracy_test = accuracy_score(srv_y_test, srv_y_pred)\n",
    "print(f\"Prediction accuracy for 'service' is: {srv_accuracy_test}\")\n",
    "print(\"Classification report:\")\n",
    "print(classification_report(srv_y_test, srv_y_pred))"
   ]
  },
  {
   "cell_type": "markdown",
   "metadata": {},
   "source": [
    "The classification model achieved an accuracy of 1, which means all samples in the test subset were correctly predicted. Now we can use this model to predict missing \"service\" fields."
   ]
  },
  {
   "cell_type": "code",
   "execution_count": 204,
   "metadata": {},
   "outputs": [],
   "source": [
    "#predict \"service\" for missing values\n",
    "srv_predictions = srv_knn.predict(data_df_no_service[srv_training_columns])\n",
    "\n",
    "#update the original data set with predicted \"service\" values\n",
    "data_df.loc[data_df[\"service\"].isna(), \"service\"] = srv_predictions"
   ]
  },
  {
   "cell_type": "markdown",
   "metadata": {},
   "source": [
    "#### Impute missing values: numerical features"
   ]
  },
  {
   "cell_type": "code",
   "execution_count": 205,
   "metadata": {},
   "outputs": [],
   "source": [
    "#to preserve hidden correlations with other features in the dataset, we will use a KNN imputer to estimate the missing values based on relationships wit other numerical features.\n",
    "numerical_features = data_df.select_dtypes(include=\"number\").columns\n",
    "knn_imputer = KNNImputer()\n",
    "data_df_after_imputing = knn_imputer.fit_transform(data_df[numerical_features])"
   ]
  },
  {
   "cell_type": "code",
   "execution_count": 206,
   "metadata": {},
   "outputs": [],
   "source": [
    "#update original data set to fill with imputed values\n",
    "data_df[numerical_features] = data_df_after_imputing"
   ]
  },
  {
   "cell_type": "code",
   "execution_count": 207,
   "metadata": {},
   "outputs": [
    {
     "data": {
      "text/plain": [
       "0\n",
       "id.orig_h        0\n",
       "conn_state       0\n",
       "resp_ip_bytes    0\n",
       "resp_pkts        0\n",
       "orig_ip_bytes    0\n",
       "orig_pkts        0\n",
       "history          0\n",
       "missed_bytes     0\n",
       "resp_bytes       0\n",
       "id.orig_p        0\n",
       "orig_bytes       0\n",
       "duration         0\n",
       "service          0\n",
       "proto            0\n",
       "id.resp_p        0\n",
       "id.resp_h        0\n",
       "label            0\n",
       "dtype: int64"
      ]
     },
     "execution_count": 207,
     "metadata": {},
     "output_type": "execute_result"
    }
   ],
   "source": [
    "#confirm all missing values were successfully imputed\n",
    "data_df.isnull().sum().sort_values(ascending=False)"
   ]
  },
  {
   "cell_type": "markdown",
   "metadata": {},
   "source": [
    "### Encode categorical features"
   ]
  },
  {
   "cell_type": "code",
   "execution_count": 208,
   "metadata": {},
   "outputs": [
    {
     "name": "stdout",
     "output_type": "stream",
     "text": [
      "<class 'pandas.core.frame.DataFrame'>\n",
      "RangeIndex: 23145 entries, 0 to 23144\n",
      "Data columns (total 17 columns):\n",
      " #   Column         Non-Null Count  Dtype  \n",
      "---  ------         --------------  -----  \n",
      " 0   id.orig_h      23145 non-null  float64\n",
      " 1   id.orig_p      23145 non-null  float64\n",
      " 2   id.resp_h      23145 non-null  float64\n",
      " 3   id.resp_p      23145 non-null  float64\n",
      " 4   proto          23145 non-null  object \n",
      " 5   service        23145 non-null  object \n",
      " 6   duration       23145 non-null  float64\n",
      " 7   orig_bytes     23145 non-null  float64\n",
      " 8   resp_bytes     23145 non-null  float64\n",
      " 9   conn_state     23145 non-null  object \n",
      " 10  missed_bytes   23145 non-null  float64\n",
      " 11  history        23145 non-null  object \n",
      " 12  orig_pkts      23145 non-null  float64\n",
      " 13  orig_ip_bytes  23145 non-null  float64\n",
      " 14  resp_pkts      23145 non-null  float64\n",
      " 15  resp_ip_bytes  23145 non-null  float64\n",
      " 16  label          23145 non-null  object \n",
      "dtypes: float64(12), object(5)\n",
      "memory usage: 3.0+ MB\n"
     ]
    }
   ],
   "source": [
    "#look for categorical features in the dataset\n",
    "data_df.info()"
   ]
  },
  {
   "cell_type": "markdown",
   "metadata": {},
   "source": [
    "- Categorical features will be encoded using their binary representation.\n",
    "- We need first to check features with rare values and map them to \"other\", in order to avoid sparse columns with statistically negligible impact and higher computational affect."
   ]
  },
  {
   "cell_type": "markdown",
   "metadata": {},
   "source": [
    "#### Encode categorical features: handle rare values"
   ]
  },
  {
   "cell_type": "code",
   "execution_count": 209,
   "metadata": {},
   "outputs": [
    {
     "name": "stdout",
     "output_type": "stream",
     "text": [
      "Column (proto) has (2) distinct values.\n",
      "Column (service) has (4) distinct values.\n",
      "Column (conn_state) has (6) distinct values.\n",
      "Column (history) has (26) distinct values.\n"
     ]
    }
   ],
   "source": [
    "#check the number of unique values in each feature\n",
    "categorical_features = [\"proto\",\"service\",\"conn_state\",\"history\"]\n",
    "for c in categorical_features:\n",
    "    print(f\"Column ({c}) has ({data_df[c].nunique()}) distinct values.\")"
   ]
  },
  {
   "cell_type": "code",
   "execution_count": 211,
   "metadata": {},
   "outputs": [
    {
     "data": {
      "text/plain": [
       "C               14252\n",
       "S                5417\n",
       "ShAdDaf          1477\n",
       "D                 978\n",
       "Dd                836\n",
       "ShAdDaft          102\n",
       "ShAdfDr            48\n",
       "CCCC                6\n",
       "ShADadtcfF          3\n",
       "ShADadttcfF         3\n",
       "ShAdDatfr           2\n",
       "CCC                 2\n",
       "ShADadf             2\n",
       "ShDadAf             2\n",
       "ShAfdtDr            2\n",
       "ShADacdtfF          2\n",
       "ShADadtctfF         2\n",
       "ShAdDatf            1\n",
       "ShADadttfF          1\n",
       "ShAdD               1\n",
       "ShADadtctfFR        1\n",
       "ShAdDfr             1\n",
       "ShAD                1\n",
       "DdAtaFf             1\n",
       "ShADad              1\n",
       "ShAdDa              1\n",
       "Name: history, dtype: int64"
      ]
     },
     "execution_count": 211,
     "metadata": {},
     "output_type": "execute_result"
    }
   ],
   "source": [
    "#check values of \"history\" because it has too many unique values.hasattr\n",
    "history_val_counts = data_df[\"history\"].value_counts()\n",
    "history_val_counts"
   ]
  },
  {
   "cell_type": "code",
   "execution_count": 218,
   "metadata": {},
   "outputs": [
    {
     "data": {
      "text/plain": [
       "C           14252\n",
       "S            5417\n",
       "ShAdDaf      1477\n",
       "D             978\n",
       "Dd            836\n",
       "ShAdDaft      102\n",
       "ShAdfDr        48\n",
       "Other          35\n",
       "Name: history, dtype: int64"
      ]
     },
     "execution_count": 218,
     "metadata": {},
     "output_type": "execute_result"
    }
   ],
   "source": [
    "#map values to their frequencies\n",
    "history_freq_map = data_df[\"history\"].map(history_val_counts)\n",
    "\n",
    "#replace low frequent values in \"history\" with \"Other\" using the corresponding frequency map\n",
    "data_df[\"history\"] = data_df[\"history\"].mask(history_freq_map < 10, \"Other\")\n",
    "\n",
    "#check \"history\" values after mapping\n",
    "data_df[\"history\"].value_counts()"
   ]
  }
 ],
 "metadata": {
  "kernelspec": {
   "display_name": "base",
   "language": "python",
   "name": "python3"
  },
  "language_info": {
   "codemirror_mode": {
    "name": "ipython",
    "version": 3
   },
   "file_extension": ".py",
   "mimetype": "text/x-python",
   "name": "python",
   "nbconvert_exporter": "python",
   "pygments_lexer": "ipython3",
   "version": "3.11.4"
  },
  "orig_nbformat": 4
 },
 "nbformat": 4,
 "nbformat_minor": 2
}
